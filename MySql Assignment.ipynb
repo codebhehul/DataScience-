{
 "cells": [
  {
   "cell_type": "markdown",
   "id": "dafa9b42",
   "metadata": {},
   "source": [
    "# Q1. What is a database? Differentiate between SQL and NoSQL databases.\n",
    "\n",
    "A database is a structured collection of data that is organized and stored for easy retrieval and manipulation. Databases are essential for storing and managing vast amounts of information in a structured manner efficient to access, update, and query the data.\n",
    "\n",
    "SQL Database:\n",
    "1. SQL databases are relational databases that store data in tables with predefined schema and relationships.\n",
    "2. They use SQL to perform operations like creating, updating, querying, and deleting data.\n",
    "3. Data integrity and consistency are ensured through ACID properties.\n",
    "4. Suitable for applications with well-defined and structured data requirements, such as financial systems, CRM, and e-commerce.\n",
    "Examples of SQL databases include MySQL, PostgreSQL, Oracle, SQL Server, etc.\n",
    "\n",
    "NoSQL Database:\n",
    "1. NoSQL databases are non-relational databases that store data in a more flexible and schema-less manner.\n",
    "2. They use various data models like document-based, key-value, column-family, and graph databases.\n",
    "3. Designed to handle large volumes of unstructured or semi-structured data, making them scalable and suitable for modern web applications, social networks, and big data applications.\n",
    "4. Sacrifices some ACID properties in favor of CAP theorem.\n",
    "Examples of NoSQL databases include MongoDB, Cassandra, Redis, Couchbase, etc."
   ]
  },
  {
   "cell_type": "markdown",
   "id": "82714521",
   "metadata": {},
   "source": [
    "# Q2. What is DDL? Explain why CREATE, DROP, ALTER, and TRUNCATE are used with an example.\n",
    "\n",
    "DDL stands for Data Definition Language, and it is used to define and manage the structure of the database and its objects.\n",
    "Examples of DDL statements:\n",
    "1. CREATE: Used to create database objects like tables, indexes, views, etc.\n",
    "   CREATE TABLE employees (\n",
    "    id INT PRIMARY KEY,\n",
    "    name VARCHAR(50),\n",
    "    department VARCHAR(50)\n",
    "    );\n",
    "\n",
    "2. DROP: Used to delete database objects like tables, indexes, views, etc.\n",
    "   DROP TABLE employees;\n",
    "\n",
    "3. ALTER: Used to modify the structure of an existing database object.\n",
    "   ALTER TABLE employees ADD COLUMN salary DECIMAL(10, 2);\n",
    "\n",
    "4. TRUNCATE: Used to remove all data from a table but keep the table structure intact.\n",
    "   TRUNCATE TABLE employees;"
   ]
  },
  {
   "cell_type": "markdown",
   "id": "1fcadca5",
   "metadata": {},
   "source": [
    "# Q3. What is DML? Explain INSERT, UPDATE, and DELETE with an example.\n",
    "\n",
    "DML stands for Data Manipulation Language, and it is used to interact with the data stored in the database.\n",
    "Examples of DML statements:\n",
    "1. INSERT: Used to insert new records into a table.\n",
    "   INSERT INTO employees (id, name, department, salary) VALUES (1, 'John Doe', 'IT', 50000);\n",
    "\n",
    "2. UPDATE: Used to modify existing records in a table.\n",
    "   UPDATE employees SET salary = 55000 WHERE id = 1;\n",
    "\n",
    "3. DELETE: Used to remove specific records from a table.\n",
    "   DELETE FROM employees WHERE id = 1;"
   ]
  },
  {
   "cell_type": "markdown",
   "id": "c2830e72",
   "metadata": {},
   "source": [
    "# Q4. What is DQL? Explain SELECT with an example.\n",
    "\n",
    "DQL stands for Data Query Language, and it is used to retrieve data from the database.\n",
    "Example of a SELECT statement:\n",
    "1. SELECT id, name, department, salary FROM employees WHERE department = 'IT';"
   ]
  },
  {
   "cell_type": "markdown",
   "id": "4cf73ac1",
   "metadata": {},
   "source": [
    "# Q5. Explain Primary Key and Foreign Key.\n",
    "\n",
    "1. Primary Key: A primary key is a column or a combination of columns that uniquely identifies each record (row) in a table. It ensures the uniqueness and integrity of the data in the table. Each table in a database can have only one primary key.\n",
    "Example:\n",
    "CREATE TABLE employees (\n",
    "    id INT PRIMARY KEY,\n",
    "    name VARCHAR(50),\n",
    "    department VARCHAR(50)\n",
    ");\n",
    "\n",
    "2. Foreign Key: A foreign key is a column or a set of columns in a table that refers to the primary key of another table. It establishes a relationship between two tables and ensures referential integrity. It helps maintain consistency and prevents orphaned records.\n",
    "Example:\n",
    "CREATE TABLE departments (\n",
    "    id INT PRIMARY KEY,\n",
    "    name VARCHAR(50)\n",
    ");\n",
    "\n",
    "CREATE TABLE employees (\n",
    "    emp_id INT PRIMARY KEY,\n",
    "    name VARCHAR(50),\n",
    "    department_id INT,\n",
    "    FOREIGN KEY (department_id) REFERENCES departments(id)\n",
    ");"
   ]
  },
  {
   "cell_type": "markdown",
   "id": "7acefafd",
   "metadata": {},
   "source": [
    "# Q6. Write a python code to connect MySQL to python. Explain the cursor() and execute() method."
   ]
  },
  {
   "cell_type": "code",
   "execution_count": null,
   "id": "43c759bc",
   "metadata": {},
   "outputs": [],
   "source": [
    "import mysql.connector\n",
    "connection = mysql.connector.connect(\n",
    "    host=\" \",\n",
    "    user=\" \",\n",
    "    password=\" \",\n",
    "    database=\" \"\n",
    ")\n",
    "cursor = connection.cursor()\n",
    "sql_query = \"SELECT * FROM employees;\"\n",
    "cursor.execute(sql_query)\n",
    "result = cursor.fetchall()\n",
    "for row in result:\n",
    "    print(row)\n",
    "cursor.close()\n",
    "connection.close()"
   ]
  },
  {
   "cell_type": "markdown",
   "id": "c2a90fc0",
   "metadata": {},
   "source": [
    "# Q7. Give the order of execution of SQL clauses in an SQL query.\n",
    "The order of execution of SQL clauses in an SQL query is as follows:\n",
    "1. FROM: Specifies the table or tables from which data is to be retrieved.\n",
    "2. JOIN: Combines rows from two or more tables based on a related column between them.\n",
    "3. WHERE: Filters the rows based on a condition.\n",
    "4. GROUP BY: Groups the result set based on specified columns.\n",
    "5. HAVING: Filters the groups based on a condition after using GROUP BY.\n",
    "6. SELECT: Specifies the columns to be retrieved from the result set.\n",
    "7. ORDER BY: Sorts the result set based on specified columns.\n",
    "8. LIMIT/OFFSET: Limits the number of rows to be retrieved (optional)."
   ]
  }
 ],
 "metadata": {
  "kernelspec": {
   "display_name": "Python 3 (ipykernel)",
   "language": "python",
   "name": "python3"
  },
  "language_info": {
   "codemirror_mode": {
    "name": "ipython",
    "version": 3
   },
   "file_extension": ".py",
   "mimetype": "text/x-python",
   "name": "python",
   "nbconvert_exporter": "python",
   "pygments_lexer": "ipython3",
   "version": "3.7.0"
  }
 },
 "nbformat": 4,
 "nbformat_minor": 5
}
