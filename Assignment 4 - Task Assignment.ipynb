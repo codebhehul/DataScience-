{
 "cells": [
  {
   "cell_type": "markdown",
   "id": "c6f1c141",
   "metadata": {},
   "source": [
    "# Q1, Create a vehicle class with an init method having instance variables as name_of_vehicle, max_speed and average_of_vehicle."
   ]
  },
  {
   "cell_type": "code",
   "execution_count": 1,
   "id": "52f92d49",
   "metadata": {},
   "outputs": [
    {
     "name": "stdout",
     "output_type": "stream",
     "text": [
      "SportsCar\n",
      "350\n",
      "217.5\n"
     ]
    }
   ],
   "source": [
    "class Vehicle:\n",
    "    def __init__(self, name_of_vehicle, max_speed, average_speed):\n",
    "        self.name_of_vehicle = name_of_vehicle\n",
    "        self.max_speed = max_speed\n",
    "        self.average_speed = average_speed\n",
    "car = Vehicle(\"SportsCar\", 350, 217.5)\n",
    "print(car.name_of_vehicle)  \n",
    "print(car.max_speed)  \n",
    "print(car.average_speed)  "
   ]
  },
  {
   "cell_type": "code",
   "execution_count": null,
   "id": "5332bee6",
   "metadata": {},
   "outputs": [],
   "source": []
  },
  {
   "cell_type": "markdown",
   "id": "aad162ed",
   "metadata": {},
   "source": [
    "# Q2. Create a child class car from the vehicle class created in Que 1, which will inherit the vehicle class. Create a method named seating_capacity which takes capacity as an argument and returns the name of the vehicle and its seating capacity."
   ]
  },
  {
   "cell_type": "code",
   "execution_count": 4,
   "id": "b0cfccef",
   "metadata": {},
   "outputs": [
    {
     "name": "stdout",
     "output_type": "stream",
     "text": [
      "The Lamborghini has a seating capacity of 2 people.\n"
     ]
    }
   ],
   "source": [
    "class Car(Vehicle):\n",
    "    def __init__(self, name_of_vehicle, max_speed, average_speed):\n",
    "        super().__init__(name_of_vehicle, max_speed, average_speed)\n",
    "    \n",
    "    def seating_capacity(self, capacity):\n",
    "        return f\"The {self.name_of_vehicle} has a seating capacity of {capacity} people.\"\n",
    "car = Car(\"Lamborghini\", 350, 217.5)\n",
    "print(car.seating_capacity(2))\n"
   ]
  },
  {
   "cell_type": "code",
   "execution_count": null,
   "id": "e0baaaed",
   "metadata": {},
   "outputs": [],
   "source": []
  },
  {
   "cell_type": "markdown",
   "id": "409ee427",
   "metadata": {},
   "source": [
    "# Q3. What is multiple inheritance? Write a python code to demonstrate multiple inheritance."
   ]
  },
  {
   "cell_type": "code",
   "execution_count": 7,
   "id": "366ad97c",
   "metadata": {},
   "outputs": [
    {
     "name": "stdout",
     "output_type": "stream",
     "text": [
      "Car: SportsCar\n",
      "Color: Yellow\n",
      "Vehicle: SportsCar\n",
      "Engine Fuel Type: Hybrid\n"
     ]
    }
   ],
   "source": [
    "'''Multiple inheritance is a feature in object-oriented programming where a class can inherit attributes and methods from multiple parent classes. \n",
    "A class can have more than one base class, allowing it to inherit and combine features from multiple sources.'''\n",
    "\n",
    "class Vehicle:\n",
    "    def __init__(self, name):\n",
    "        self.name = name\n",
    "\n",
    "    def display_info(self):\n",
    "        print(\"Vehicle:\", self.name)\n",
    "\n",
    "\n",
    "class Engine:\n",
    "    def __init__(self, fuel_type):\n",
    "        self.fuel_type = fuel_type\n",
    "\n",
    "    def display_info(self):\n",
    "        print(\"Engine Fuel Type:\", self.fuel_type)\n",
    "\n",
    "\n",
    "class Car(Vehicle, Engine):\n",
    "    def __init__(self, name, fuel_type, color):\n",
    "        Vehicle.__init__(self, name)\n",
    "        Engine.__init__(self, fuel_type)\n",
    "        self.color = color\n",
    "\n",
    "    def display_info(self):\n",
    "        print(\"Car:\", self.name)\n",
    "        print(\"Color:\", self.color)\n",
    "        Vehicle.display_info(self)\n",
    "        Engine.display_info(self)\n",
    "\n",
    "\n",
    "car = Car(\"SportsCar\", \"Hybrid\", \"Yellow\")\n",
    "car.display_info()\n",
    "\n"
   ]
  },
  {
   "cell_type": "code",
   "execution_count": null,
   "id": "b3f4ef75",
   "metadata": {},
   "outputs": [],
   "source": []
  },
  {
   "cell_type": "code",
   "execution_count": null,
   "id": "88ff1d14",
   "metadata": {},
   "outputs": [],
   "source": []
  }
 ],
 "metadata": {
  "kernelspec": {
   "display_name": "Python 3 (ipykernel)",
   "language": "python",
   "name": "python3"
  },
  "language_info": {
   "codemirror_mode": {
    "name": "ipython",
    "version": 3
   },
   "file_extension": ".py",
   "mimetype": "text/x-python",
   "name": "python",
   "nbconvert_exporter": "python",
   "pygments_lexer": "ipython3",
   "version": "3.7.0"
  }
 },
 "nbformat": 4,
 "nbformat_minor": 5
}
