{
 "cells": [
  {
   "cell_type": "markdown",
   "id": "6c339b4b",
   "metadata": {},
   "source": [
    "# Q1. What is multiprocessing in Python? Why is it useful?\n",
    "\n",
    "Multiprocessing in Python refers to the capability of running multiple processes concurrently in order to improve performance and take advantage of multiple CPU cores or processors. It allows you to execute multiple tasks simultaneously, each within its own process, thereby achieving parallelism. Python's multiprocessing module provides a way to create and manage multiple processes. It offers a Process class that can be used to create new processes, along with various functions and classes for communication and synchronization between processes.\n",
    "Multiprocessing is useful for:- \n",
    "1. Performance improvement \n",
    "2. Parallelism \n",
    "3. CPU-bound tasks \n",
    "4. Handling I/O-bound tasks \n",
    "5. Modular and scalable code"
   ]
  },
  {
   "cell_type": "markdown",
   "id": "b0a7fe3c",
   "metadata": {},
   "source": [
    "# Q2. What are the differences between multiprocessing and multithreading?\n",
    "\n",
    "The Differecne between Multiprocessing and Multithreading:- \n",
    "1. Execution model: \n",
    "            Multiprocessing: It involves executing multiple processes concurrently. Each process has its own memory space and Python interpreter. \n",
    "            Multithreading:  It involves executing multiple threads within a single process. All threads share the same memory space and Python interpreter.\n",
    "            \n",
    "2. Memory usage:\n",
    "            Multiprocessing: Inter-process communication mechanisms like pipes, queues, or shared memory can be used to exchange data between processes.\n",
    "            Multithreading:  Threads can access and modify shared data directly, but proper synchronization mechanisms like locks or semaphores should be used to ensure thread safety.\n",
    "\n",
    "3. Performance:\n",
    "            Multiprocessing: Provide performance improvements for CPU-bound tasks by utilizing multiple CPU cores and achieving true parallelism. creating and managing multiple processes incurs additional overhead.\n",
    "            Multithreading:  It can be beneficial for I/O-bound tasks where threads can perform other operations while waiting for I/O operations to complete. However, due to the GIL, it may not provide significant performance gains for CPU-bound tasks.\n",
    "\n",
    "4. Complexity:\n",
    "            Multiprocessing: It introduces additional complexity compared to single-threaded or multithreaded programs.\n",
    "            Multithreading:  It is generally considered less complex than multiprocessing since threads share memory space.\n",
    "\n",
    "5. Use cases:\n",
    "            Multiprocessing: Examples include numerical computations, image processing, or simulations.\n",
    "            Multithreading:  Examples include web scraping, database operations, or GUI applications."
   ]
  },
  {
   "cell_type": "markdown",
   "id": "78128061",
   "metadata": {},
   "source": [
    "# Q3. Write a Python code to create a process using the multiprocessing module."
   ]
  },
  {
   "cell_type": "code",
   "execution_count": 4,
   "id": "32942650",
   "metadata": {},
   "outputs": [
    {
     "name": "stdout",
     "output_type": "stream",
     "text": [
      "Main process completed.\n"
     ]
    }
   ],
   "source": [
    "import multiprocessing\n",
    "def process_function():\n",
    "    \"\"\"The function to be executed in the separate process.\"\"\"\n",
    "    print(\"This is a separate process.\")\n",
    "\n",
    "if __name__ == '__main__':\n",
    "    process = multiprocessing.Process(target=process_function)\n",
    "    process.start()\n",
    "    process.join()\n",
    "    print(\"Main process completed.\")\n"
   ]
  },
  {
   "cell_type": "markdown",
   "id": "c1eb9dde",
   "metadata": {},
   "source": [
    "# Q4. What is a multiprocessing pool in Python? Why is it used?\n",
    "\n",
    "A multiprocessing pool refers to a collection of worker processes that can be used to parallelize and distribute tasks across multiple CPU cores or processors. The multiprocessing pool is provided by the multiprocessing module and offers a convenient way to manage and execute multiple processes in a controlled manner.\n",
    "\n",
    "The multiprocessing pool is used for the following reasons:\n",
    "1. Parallel execution: The main advantage of using a multiprocessing pool is that it allows to execute multiple tasks in parallel. By utilizing multiple processes, each with its own CPU core, can achieve better performance and reduce the overall execution time of your program, particularly for CPU-bound tasks.\n",
    "\n",
    "2. Load balancing: The pool automatically distributes the tasks among the worker processes, ensuring that the workload is evenly spread. This helps in achieving load balancing and maximizing the utilization of available resources.\n",
    "\n",
    "3. Task management: The multiprocessing pool abstracts away the complexity of process creation, inter-process communication, and result handling. It provides a high-level interface for submitting and managing tasks, making it easier to parallelize code without dealing with the low-level details of process management.\n",
    "\n",
    "4. Scalability: The multiprocessing pool is scalable, meaning you can increase or decrease the number of worker processes based on the available resources and the nature of your task. This flexibility allows to adapt your parallelization strategy to match the specific requirements of your program.\n"
   ]
  },
  {
   "cell_type": "markdown",
   "id": "b3f3e29b",
   "metadata": {},
   "source": [
    "# Q5. How can we use the multiprocessing module to create a pool of worker processes in Python?"
   ]
  },
  {
   "cell_type": "code",
   "execution_count": null,
   "id": "672f7c79",
   "metadata": {},
   "outputs": [],
   "source": [
    "# To create a pool of worker processes using the multiprocessing module in Python, you can follow these steps:\n",
    "# 1. Import the necessary modules\n",
    "# 2. Define the function that represents the task to be executed by the worker processes. This function should take the required input and return the result\n",
    "# 3. Create a multiprocessing pool by initializing an instance of the multiprocessing. The number of worker processes in the pool is set to the number of available CPU cores. \n",
    "# 4. Submit tasks to the pool for execution using the pool.apply_async() method. This method takes the task function and the input arguments as parameters. It returns a result object that can be used to retrieve the result later.\n",
    "# 5. Can use the pool.map() or pool.starmap() methods to submit multiple tasks simultaneously. These methods take an iterable of input arguments and automatically distribute the tasks across the worker processes. \n",
    "# 6. Retrieve the results from the result objects using the get() method. This method blocks until the result is available.\n",
    "# 7. when you have finished using the pool and obtained all the results, you should call the pool.close() method to prevent any more tasks from being submitted and pool.join() to wait for all the worker processes to complete.\n",
    "\n",
    "# example:- \n",
    "import multiprocessing\n",
    "def task_function(number):\n",
    "    \"\"\"Function to perform a task.\"\"\"\n",
    "    result = number * 2\n",
    "    return result\n",
    "if __name__ == '__main__':\n",
    "    pool = multiprocessing.Pool()\n",
    "    numbers = [1, 2, 3, 4, 5]\n",
    "    results = pool.map(task_function, numbers)\n",
    "    pool.close()\n",
    "    pool.join()\n",
    "    print(\"Results:\", results)"
   ]
  },
  {
   "cell_type": "markdown",
   "id": "db4e0b40",
   "metadata": {},
   "source": [
    "# Q6. Write a Python program to create 4 processes, each process should print a different number using the multiprocessing module in Python."
   ]
  },
  {
   "cell_type": "code",
   "execution_count": 3,
   "id": "95c051bf",
   "metadata": {},
   "outputs": [
    {
     "name": "stdout",
     "output_type": "stream",
     "text": [
      "All processes completed.\n"
     ]
    }
   ],
   "source": [
    "import multiprocessing\n",
    "def print_number(number):\n",
    "    \"\"\"Function to print a number.\"\"\"\n",
    "    print(\"Number:\", number)\n",
    "if __name__ == '__main__':\n",
    "    numbers = [1, 2, 3, 4]\n",
    "    processes = []\n",
    "    for number in numbers:\n",
    "        process = multiprocessing.Process(target=print_number, args=(number,))\n",
    "        process.start()\n",
    "        processes.append(process)\n",
    "    for process in processes:\n",
    "        process.join()\n",
    "    print(\"All processes completed.\")\n"
   ]
  }
 ],
 "metadata": {
  "kernelspec": {
   "display_name": "Python 3 (ipykernel)",
   "language": "python",
   "name": "python3"
  },
  "language_info": {
   "codemirror_mode": {
    "name": "ipython",
    "version": 3
   },
   "file_extension": ".py",
   "mimetype": "text/x-python",
   "name": "python",
   "nbconvert_exporter": "python",
   "pygments_lexer": "ipython3",
   "version": "3.7.0"
  }
 },
 "nbformat": 4,
 "nbformat_minor": 5
}
