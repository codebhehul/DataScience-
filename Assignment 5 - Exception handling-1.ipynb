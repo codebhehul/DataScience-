{
 "cells": [
  {
   "cell_type": "markdown",
   "id": "921a6bbe",
   "metadata": {},
   "source": [
    "# Q1. What is an Exception in python? Write the difference between Exceptions and syntax errors ?\n",
    "\n",
    "An exception is an event that occurs during the execution of a program that disrupts the normal flow of the program's instructions. Exceptions can occur due to various reasons, such as invalid input, file not found, division by zero, or any other circumstance that prevents the program from executing as expected. They are used to handle errors and exceptional situations allowing the program to respond appropriately instead of abruptly terminating.\n",
    "\n",
    "   Exception                                                 Syntax Error\n",
    "1. Exceptions occur during the execution of a program.       Syntax errors are detected by the Python interpreter before the\n",
    "                                                             program starts running.\n",
    "2. Exceptions can be caught and handled using exception      Syntax errors cause the program to fail immediately and prevent it    -handling, allowing the program to respond.               from running.\n",
    "3. Exceptions are typically caused by runtime conditions,    Syntax errors occur when the code violates the rules of the Python    such as invalid input or unexpected situations during     language syntax.\n",
    "   program execution.   \n",
    "4. Exceptions can be caught and handled using try-except     Syntax errors need to be fixed in the code itself by correcting the    blocks, allowing the program to take appropriate actions  syntax mistake. \n",
    "   to handle the error.        \n",
    "                                                     \n",
    "                                                      "
   ]
  },
  {
   "cell_type": "code",
   "execution_count": null,
   "id": "f379f553",
   "metadata": {},
   "outputs": [],
   "source": []
  },
  {
   "cell_type": "markdown",
   "id": "c22f4e0c",
   "metadata": {},
   "source": [
    "# Q2 What happens when an exception is not handled? Explain with the example ?"
   ]
  },
  {
   "cell_type": "code",
   "execution_count": 1,
   "id": "5771b9e4",
   "metadata": {},
   "outputs": [
    {
     "ename": "ZeroDivisionError",
     "evalue": "division by zero",
     "output_type": "error",
     "traceback": [
      "\u001b[1;31m---------------------------------------------------------------------------\u001b[0m",
      "\u001b[1;31mZeroDivisionError\u001b[0m                         Traceback (most recent call last)",
      "\u001b[1;32m~\\AppData\\Local\\Temp\\ipykernel_36704\\2333013625.py\u001b[0m in \u001b[0;36m<module>\u001b[1;34m\u001b[0m\n\u001b[0;32m      3\u001b[0m     \u001b[0mresult\u001b[0m \u001b[1;33m=\u001b[0m \u001b[0ma\u001b[0m \u001b[1;33m/\u001b[0m \u001b[0mb\u001b[0m\u001b[1;33m\u001b[0m\u001b[0m\n\u001b[0;32m      4\u001b[0m     \u001b[1;32mreturn\u001b[0m \u001b[0mresult\u001b[0m\u001b[1;33m\u001b[0m\u001b[0m\n\u001b[1;32m----> 5\u001b[1;33m \u001b[0mresult\u001b[0m \u001b[1;33m=\u001b[0m \u001b[0mdivide_numbers\u001b[0m\u001b[1;33m(\u001b[0m\u001b[1;36m10\u001b[0m\u001b[1;33m,\u001b[0m \u001b[1;36m0\u001b[0m\u001b[1;33m)\u001b[0m\u001b[1;33m\u001b[0m\u001b[0m\n\u001b[0m\u001b[0;32m      6\u001b[0m \u001b[0mprint\u001b[0m\u001b[1;33m(\u001b[0m\u001b[1;34m\"Result:\"\u001b[0m\u001b[1;33m,\u001b[0m \u001b[0mresult\u001b[0m\u001b[1;33m)\u001b[0m\u001b[1;33m\u001b[0m\u001b[0m\n\u001b[0;32m      7\u001b[0m \u001b[1;31m# A function called divide_numbers that takes two arguments and divides the first argument by the second argument. Calling the function with the second argument as 0, which will raise a ZeroDivisionError since division by zero is not allowed.\u001b[0m\u001b[1;33m\u001b[0m\u001b[1;33m\u001b[0m\u001b[0m\n",
      "\u001b[1;32m~\\AppData\\Local\\Temp\\ipykernel_36704\\2333013625.py\u001b[0m in \u001b[0;36mdivide_numbers\u001b[1;34m(a, b)\u001b[0m\n\u001b[0;32m      1\u001b[0m \u001b[1;31m# When an exception is not handled it results in the termination of the program and an error message is displayed, indicating the unhandled exception and its corresponding traceback.\u001b[0m\u001b[1;33m\u001b[0m\u001b[1;33m\u001b[0m\u001b[0m\n\u001b[0;32m      2\u001b[0m \u001b[1;32mdef\u001b[0m \u001b[0mdivide_numbers\u001b[0m\u001b[1;33m(\u001b[0m\u001b[0ma\u001b[0m\u001b[1;33m,\u001b[0m \u001b[0mb\u001b[0m\u001b[1;33m)\u001b[0m\u001b[1;33m:\u001b[0m\u001b[1;33m\u001b[0m\u001b[0m\n\u001b[1;32m----> 3\u001b[1;33m     \u001b[0mresult\u001b[0m \u001b[1;33m=\u001b[0m \u001b[0ma\u001b[0m \u001b[1;33m/\u001b[0m \u001b[0mb\u001b[0m\u001b[1;33m\u001b[0m\u001b[0m\n\u001b[0m\u001b[0;32m      4\u001b[0m     \u001b[1;32mreturn\u001b[0m \u001b[0mresult\u001b[0m\u001b[1;33m\u001b[0m\u001b[0m\n\u001b[0;32m      5\u001b[0m \u001b[0mresult\u001b[0m \u001b[1;33m=\u001b[0m \u001b[0mdivide_numbers\u001b[0m\u001b[1;33m(\u001b[0m\u001b[1;36m10\u001b[0m\u001b[1;33m,\u001b[0m \u001b[1;36m0\u001b[0m\u001b[1;33m)\u001b[0m\u001b[1;33m\u001b[0m\u001b[0m\n",
      "\u001b[1;31mZeroDivisionError\u001b[0m: division by zero"
     ]
    }
   ],
   "source": [
    "# When an exception is not handled it results in the termination of the program and an error message is displayed, indicating the unhandled exception and its corresponding traceback.\n",
    "def divide_numbers(a, b):\n",
    "    result = a / b\n",
    "    return result\n",
    "result = divide_numbers(10, 0)\n",
    "print(\"Result:\", result)\n",
    "# A function called divide_numbers that takes two arguments and divides the first argument by the second argument. Calling the function with the second argument as 0, which will raise a ZeroDivisionError since division by zero is not allowed."
   ]
  },
  {
   "cell_type": "code",
   "execution_count": null,
   "id": "b9cdf529",
   "metadata": {},
   "outputs": [],
   "source": []
  },
  {
   "cell_type": "markdown",
   "id": "0d06bb81",
   "metadata": {},
   "source": [
    "# Q3. What Python statements are used to catch and handle exceptions? Explain with the example."
   ]
  },
  {
   "cell_type": "code",
   "execution_count": null,
   "id": "5782d0ed",
   "metadata": {},
   "outputs": [],
   "source": [
    "# The try-except statement is used to catch and handle exceptions. The try block contains the code that may raise an exception, and the except block specifies the exception(s) to catch and provides the corresponding handling code.\n",
    "def divide_numbers(a, b):\n",
    "    try:\n",
    "        result = a / b\n",
    "        print(\"Result:\", result)\n",
    "    except ZeroDivisionError:\n",
    "        print(\"Error: Division by zero is not allowed.\")\n",
    "divide_numbers(10, 0)\n"
   ]
  },
  {
   "cell_type": "code",
   "execution_count": null,
   "id": "ea22e60d",
   "metadata": {},
   "outputs": [],
   "source": []
  },
  {
   "cell_type": "markdown",
   "id": "2e2bfddc",
   "metadata": {},
   "source": [
    "# Q4. Explain with an example: a. try and else , b. finally , c. raise"
   ]
  },
  {
   "cell_type": "code",
   "execution_count": 5,
   "id": "dfeec1a3",
   "metadata": {},
   "outputs": [
    {
     "name": "stdout",
     "output_type": "stream",
     "text": [
      "Result: 20.0\n",
      "Division operation completed.\n",
      "Error: Division by zero is not allowed.\n",
      "Division operation completed.\n",
      "Result: 42.0\n",
      "Division operation completed.\n"
     ]
    },
    {
     "ename": "ValueError",
     "evalue": "The result cannot be 42!",
     "output_type": "error",
     "traceback": [
      "\u001b[1;31m---------------------------------------------------------------------------\u001b[0m",
      "\u001b[1;31mValueError\u001b[0m                                Traceback (most recent call last)",
      "\u001b[1;32m~\\AppData\\Local\\Temp\\ipykernel_36704\\1342566094.py\u001b[0m in \u001b[0;36m<module>\u001b[1;34m\u001b[0m\n\u001b[0;32m     17\u001b[0m \u001b[0mdivide_numbers\u001b[0m\u001b[1;33m(\u001b[0m\u001b[1;36m100\u001b[0m\u001b[1;33m,\u001b[0m \u001b[1;36m5\u001b[0m\u001b[1;33m)\u001b[0m\u001b[1;33m\u001b[0m\u001b[0m\n\u001b[0;32m     18\u001b[0m \u001b[0mdivide_numbers\u001b[0m\u001b[1;33m(\u001b[0m\u001b[1;36m10\u001b[0m\u001b[1;33m,\u001b[0m \u001b[1;36m0\u001b[0m\u001b[1;33m)\u001b[0m\u001b[1;33m\u001b[0m\u001b[0m\n\u001b[1;32m---> 19\u001b[1;33m \u001b[0mdivide_numbers\u001b[0m\u001b[1;33m(\u001b[0m\u001b[1;36m84\u001b[0m\u001b[1;33m,\u001b[0m \u001b[1;36m2\u001b[0m\u001b[1;33m)\u001b[0m\u001b[1;33m\u001b[0m\u001b[0m\n\u001b[0m",
      "\u001b[1;32m~\\AppData\\Local\\Temp\\ipykernel_36704\\1342566094.py\u001b[0m in \u001b[0;36mdivide_numbers\u001b[1;34m(a, b)\u001b[0m\n\u001b[0;32m     12\u001b[0m         \u001b[0mprint\u001b[0m\u001b[1;33m(\u001b[0m\u001b[1;34m\"Result:\"\u001b[0m\u001b[1;33m,\u001b[0m \u001b[0mresult\u001b[0m\u001b[1;33m)\u001b[0m\u001b[1;33m\u001b[0m\u001b[0m\n\u001b[0;32m     13\u001b[0m         \u001b[1;32mif\u001b[0m \u001b[0mresult\u001b[0m \u001b[1;33m==\u001b[0m \u001b[1;36m42\u001b[0m\u001b[1;33m:\u001b[0m\u001b[1;33m\u001b[0m\u001b[0m\n\u001b[1;32m---> 14\u001b[1;33m             \u001b[1;32mraise\u001b[0m \u001b[0mValueError\u001b[0m\u001b[1;33m(\u001b[0m\u001b[1;34m\"The result cannot be 42!\"\u001b[0m\u001b[1;33m)\u001b[0m\u001b[1;33m\u001b[0m\u001b[0m\n\u001b[0m\u001b[0;32m     15\u001b[0m     \u001b[1;32mfinally\u001b[0m\u001b[1;33m:\u001b[0m\u001b[1;33m\u001b[0m\u001b[0m\n\u001b[0;32m     16\u001b[0m         \u001b[0mprint\u001b[0m\u001b[1;33m(\u001b[0m\u001b[1;34m\"Division operation completed.\"\u001b[0m\u001b[1;33m)\u001b[0m\u001b[1;33m\u001b[0m\u001b[0m\n",
      "\u001b[1;31mValueError\u001b[0m: The result cannot be 42!"
     ]
    }
   ],
   "source": [
    "# A.Try and Else:- The try and else blocks are used together in Python to handle exceptions and define code that should be executed only if no exception occurs. The else block is optional and follows the except block(s).\n",
    "# B.Finally:- The finally block is used in Python to define a code block that is always executed, regardless of whether an exception occurred or not. \n",
    "# C.Raise:- Raise built-in exceptions or custom exceptions based on specific needs. When an exception is raised, it interrupts the normal flow of the program and transfers control to the nearest exception-handling code.\n",
    "\n",
    "# Example:-\n",
    "def divide_numbers(a, b):\n",
    "    try:\n",
    "        result = a / b\n",
    "    except ZeroDivisionError:\n",
    "        print(\"Error: Division by zero is not allowed.\")\n",
    "    else:\n",
    "        print(\"Result:\", result)\n",
    "        if result == 42:\n",
    "            raise ValueError(\"The result cannot be 42!\")\n",
    "    finally:\n",
    "        print(\"Division operation completed.\")\n",
    "divide_numbers(100, 5)\n",
    "divide_numbers(10, 0)\n",
    "divide_numbers(84, 2)\n"
   ]
  },
  {
   "cell_type": "code",
   "execution_count": null,
   "id": "e880e38a",
   "metadata": {},
   "outputs": [],
   "source": []
  },
  {
   "cell_type": "markdown",
   "id": "a308c6e5",
   "metadata": {},
   "source": [
    "# Q5. What are the custom exceptions in Python? Why do we need a custom exception? Explain with an example."
   ]
  },
  {
   "cell_type": "code",
   "execution_count": 6,
   "id": "951cb7f2",
   "metadata": {},
   "outputs": [
    {
     "name": "stdout",
     "output_type": "stream",
     "text": [
      "Error: Cannot divide by zero.\n"
     ]
    }
   ],
   "source": [
    "# Custom exceptions are user-defined exceptions that allow to create own types of exceptions based on specific requirements or domain-specific scenarios. \n",
    "\n",
    "# There are several reasons why we might need a custom exception:\n",
    "# 1. Specific Error Classification:- Creating custom exception classes, can convey the intent and meaning behind the exception more clearly, making it easier to understand and handle different types of errors.\n",
    "# 2. Modularity and Reusability:- Encapsulate the error-handling logic within the exception itself this allows to reuse the same exception in multiple parts of codebase, maintaining consistency and reducing code duplication.\n",
    "# 3. Readability and Maintainability:- Encounter an exception in code, having a well-named custom exception class helps quickly identify the type of error and its purpose, making it easier to debug and maintain the codebase.\n",
    "# Example:-\n",
    "class MyCustomException(Exception):\n",
    "    pass\n",
    "def divide_numbers(a, b):\n",
    "    if b == 0:\n",
    "        raise MyCustomException(\"Cannot divide by zero.\")\n",
    "    else:\n",
    "        result = a / b\n",
    "        return result\n",
    "try:\n",
    "    result = divide_numbers(10, 0)\n",
    "    print(\"Result:\", result)\n",
    "except MyCustomException as e:\n",
    "    print(\"Error:\", e)\n"
   ]
  },
  {
   "cell_type": "code",
   "execution_count": null,
   "id": "5e233312",
   "metadata": {},
   "outputs": [],
   "source": []
  },
  {
   "cell_type": "markdown",
   "id": "f9096422",
   "metadata": {},
   "source": [
    "# Q6. Create an exception class. Use this class to handle an exception.\n"
   ]
  },
  {
   "cell_type": "code",
   "execution_count": 4,
   "id": "61ec0e85",
   "metadata": {},
   "outputs": [
    {
     "name": "stdout",
     "output_type": "stream",
     "text": [
      "Invalid input: Negative number.\n"
     ]
    }
   ],
   "source": [
    "class InvalidInputError(Exception):\n",
    "    pass\n",
    "def calculate_square_root(number):\n",
    "    if number < 0:\n",
    "        raise InvalidInputError(\"Invalid input: Negative number.\")\n",
    "    else:\n",
    "        result = number ** 0.5\n",
    "        return result\n",
    "try:\n",
    "    result = calculate_square_root(-5)\n",
    "    print(\"Square root:\", result)\n",
    "except InvalidInputError as e:\n",
    "    print(e)\n"
   ]
  }
 ],
 "metadata": {
  "kernelspec": {
   "display_name": "Python 3 (ipykernel)",
   "language": "python",
   "name": "python3"
  },
  "language_info": {
   "codemirror_mode": {
    "name": "ipython",
    "version": 3
   },
   "file_extension": ".py",
   "mimetype": "text/x-python",
   "name": "python",
   "nbconvert_exporter": "python",
   "pygments_lexer": "ipython3",
   "version": "3.7.0"
  }
 },
 "nbformat": 4,
 "nbformat_minor": 5
}
