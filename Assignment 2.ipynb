{
 "cells": [
  {
   "cell_type": "markdown",
   "id": "925ba8a7",
   "metadata": {},
   "source": [
    "# Q1. How do you comment code in Python? What are the different types of comments?\n",
    "\n",
    "In Python '#' character for single-line comments and triple quotes (''' or \"\"\") for multi-line comments. The diffrent types of comments are:\n",
    "1.Single-line comments: To add a comment on a single line add # character, any text after the # character on that line is considered a comment and is ignored by the Python interpreter. \n",
    "For example:\n",
    "\n",
    "\"#This is a single-line comment\"\n",
    "print(\"Hello, world!\")\n",
    "\n",
    "2.Multi-line comments: Use triple quotes (''' or \"\"\") to create multi-line strings, which are often used as comments. While these multi-line strings are not ignored by the interpreter, they serve the purpose of commenting out multiple lines of code. \n",
    "For example:\n",
    "'''\n",
    "This is a multi-line comment.\n",
    "It can span across multiple lines.\n",
    "'''\n",
    "print(\"Hello, world!\")\n"
   ]
  },
  {
   "cell_type": "code",
   "execution_count": null,
   "id": "dad959f5",
   "metadata": {},
   "outputs": [],
   "source": []
  },
  {
   "cell_type": "markdown",
   "id": "3e0c29cf",
   "metadata": {},
   "source": [
    "# Q2. What are variables in Python? How do you declare and assign values to variables?\n",
    "\n",
    "In Python variables are essentially names or labels that represent a memory location where values are stored. Variables in python can hold different types of data such as numbers, strings, lists, or more complex objects.\n",
    "To declare and assign values to variables in Python simply use the assignment operator.\n",
    "\n",
    "Examples\n",
    "name = \"Mahi\"\n",
    "age = 41"
   ]
  },
  {
   "cell_type": "code",
   "execution_count": null,
   "id": "3c6ee0d1",
   "metadata": {},
   "outputs": [],
   "source": []
  },
  {
   "cell_type": "markdown",
   "id": "25f1c26a",
   "metadata": {},
   "source": [
    "# Q3. How do you convert one data type to another in Python?"
   ]
  },
  {
   "cell_type": "code",
   "execution_count": 4,
   "id": "0566c0f5",
   "metadata": {},
   "outputs": [
    {
     "name": "stdout",
     "output_type": "stream",
     "text": [
      "<class 'str'>\n",
      "<class 'int'>\n",
      "<class 'float'>\n",
      "<class 'bool'>\n",
      "<class 'list'>\n",
      "<class 'tuple'>\n",
      "<class 'set'>\n"
     ]
    }
   ],
   "source": [
    "#To convert one data type to another in Python Explicit Type Conversion is used(Type Casting).\n",
    "# Built-in functions like str(), int(), float(), bool(), list(), tuple(), or dict() are used to explicitly convert a value to the desired data type.\n",
    "#Examples\n",
    "text = str(42)\n",
    "num1 = int(\"10\")\n",
    "num2 = float(\"3.14\")\n",
    "val = bool(0)\n",
    "my_list = list(\"hello\")  # Converts string \"hello\" to list ['h', 'e', 'l', 'l', 'o']\n",
    "my_tuple = tuple([1, 2, 3])  # Converts list [1, 2, 3] to tuple (1, 2, 3)\n",
    "my_set = set([1, 2, 2, 3])  # Converts list [1, 2, 2, 3] to set {1, 2, 3}\n",
    "print(type(text))\n",
    "print(type(num1))\n",
    "print(type(num2))\n",
    "print(type(val))\n",
    "print(type(my_list))\n",
    "print(type(my_tuple))\n",
    "print(type(my_set))\n"
   ]
  },
  {
   "cell_type": "code",
   "execution_count": null,
   "id": "31b55013",
   "metadata": {},
   "outputs": [],
   "source": []
  },
  {
   "cell_type": "markdown",
   "id": "f9223ca1",
   "metadata": {},
   "source": [
    "# Q4. How do you write and execute a Python script from the command line?\n",
    "\n",
    "Python must be installed on computer and added to system's PATH environment variable, this allows to run the python command from any location in the command line.\n",
    "To write and execute a Python script from the command line:\n",
    "1. Open a text editor such as Notepad or Python IDE and create a new file.\n",
    "2. Write Python code in the text file and save it with a .py extension. eg \"script.py\".\n",
    "3. Open the command line or terminal on your computer and navigate to the directory where saved the python script using the cd command. eg if the script is saved on the desktop, it can be navigated to the desktop using: \"cd Desktop\"\n",
    "4. Once in the correct directory, it can run the Python script using the python command followed by the script's filename. For example: python script.py\n",
    "This command will execute the Python script, and the output will be displayed in the command line."
   ]
  },
  {
   "cell_type": "code",
   "execution_count": null,
   "id": "2f382979",
   "metadata": {},
   "outputs": [],
   "source": []
  },
  {
   "cell_type": "markdown",
   "id": "d074e045",
   "metadata": {},
   "source": [
    "# Q5. Given a list my_list = [1, 2, 3, 4, 5], write the code to slice the list and obtain the sub-list [2, 3]."
   ]
  },
  {
   "cell_type": "code",
   "execution_count": 22,
   "id": "0c5fd196",
   "metadata": {},
   "outputs": [
    {
     "name": "stdout",
     "output_type": "stream",
     "text": [
      "[2, 3]\n"
     ]
    }
   ],
   "source": [
    "my_list = [1,2,3,4,5]\n",
    "sub_list = my_list[1:3] # or sub_list = my_list[-4:-2]\n",
    "print(sub_list)"
   ]
  },
  {
   "cell_type": "code",
   "execution_count": null,
   "id": "8763ff38",
   "metadata": {},
   "outputs": [],
   "source": []
  },
  {
   "cell_type": "markdown",
   "id": "70ac2dc7",
   "metadata": {},
   "source": [
    "# Q6. What is a complex number in mathematics, and how is it represented in Python?\n",
    "\n",
    "A complex number is a number that comprises both a real part and an imaginary part. It is represented in the form \"a + bi,\" where \"a\" is the real part, \"b\" is the imaginary part, and \"i\" is the imaginary unit defined as the square root of -1.\n",
    "A complex number in Python can be reprented as: z = 3 + 2j"
   ]
  },
  {
   "cell_type": "code",
   "execution_count": null,
   "id": "1a977c78",
   "metadata": {},
   "outputs": [],
   "source": []
  },
  {
   "cell_type": "markdown",
   "id": "4319d03d",
   "metadata": {},
   "source": [
    "# Q7. What is the correct way to declare a variable named age and assign the value 25 to it?\n"
   ]
  },
  {
   "cell_type": "code",
   "execution_count": 23,
   "id": "682fe422",
   "metadata": {},
   "outputs": [
    {
     "name": "stdout",
     "output_type": "stream",
     "text": [
      "25\n"
     ]
    }
   ],
   "source": [
    "#The correct way to declare a variable named age and assign the value 25 to it in Python is as follows:\n",
    "age = 25\n",
    "print(age)\n"
   ]
  },
  {
   "cell_type": "code",
   "execution_count": null,
   "id": "9009e1e7",
   "metadata": {},
   "outputs": [],
   "source": []
  },
  {
   "cell_type": "markdown",
   "id": "5708f1a2",
   "metadata": {},
   "source": [
    "# 8. Declare a variable named price and assign the value 9.99 to it. What data type does this variable belong to?"
   ]
  },
  {
   "cell_type": "code",
   "execution_count": 26,
   "id": "6a915c79",
   "metadata": {},
   "outputs": [
    {
     "data": {
      "text/plain": [
       "float"
      ]
     },
     "execution_count": 26,
     "metadata": {},
     "output_type": "execute_result"
    }
   ],
   "source": [
    "# The variable named price belongs to the data type called \"float.\"\n",
    "value = 9.99\n",
    "type(value)"
   ]
  },
  {
   "cell_type": "code",
   "execution_count": null,
   "id": "f04cd0d1",
   "metadata": {},
   "outputs": [],
   "source": []
  },
  {
   "cell_type": "markdown",
   "id": "37e04e72",
   "metadata": {},
   "source": [
    "# Q9. Create a variable named name and assign your full name to it as a string. How would you print the value of this variable?"
   ]
  },
  {
   "cell_type": "code",
   "execution_count": 27,
   "id": "c8963ee4",
   "metadata": {},
   "outputs": [
    {
     "name": "stdout",
     "output_type": "stream",
     "text": [
      "Bhehul Rajderkar\n"
     ]
    }
   ],
   "source": [
    "# To print the value of the name variable use the print() function \n",
    "name = \"Bhehul Rajderkar\"\n",
    "print(name)\n"
   ]
  },
  {
   "cell_type": "code",
   "execution_count": null,
   "id": "6a8a71ef",
   "metadata": {},
   "outputs": [],
   "source": []
  },
  {
   "cell_type": "markdown",
   "id": "992457a9",
   "metadata": {},
   "source": [
    "# Q10. Given the string \"Hello, World!\", extract the substring \"World\".\n"
   ]
  },
  {
   "cell_type": "code",
   "execution_count": 12,
   "id": "9ab46213",
   "metadata": {},
   "outputs": [
    {
     "name": "stdout",
     "output_type": "stream",
     "text": [
      "World\n"
     ]
    }
   ],
   "source": [
    "val = \"Hello World!\"\n",
    "sub_val = val[6:11]\n",
    "print(sub_val)"
   ]
  },
  {
   "cell_type": "code",
   "execution_count": null,
   "id": "81bab4dd",
   "metadata": {},
   "outputs": [],
   "source": []
  },
  {
   "cell_type": "markdown",
   "id": "7d82f2d3",
   "metadata": {},
   "source": [
    "# Q11. Create a variable named \"is_student\" and assign it a boolean value indicating whether you are currently a student or not."
   ]
  },
  {
   "cell_type": "code",
   "execution_count": 13,
   "id": "73326969",
   "metadata": {},
   "outputs": [],
   "source": [
    "# The variable \"is_student\" is declared and assigned the boolean value True. If you are currently a student you can keep it as True or you are not a student you can assign it False.\n",
    "is_student = True\n"
   ]
  }
 ],
 "metadata": {
  "kernelspec": {
   "display_name": "Python 3 (ipykernel)",
   "language": "python",
   "name": "python3"
  },
  "language_info": {
   "codemirror_mode": {
    "name": "ipython",
    "version": 3
   },
   "file_extension": ".py",
   "mimetype": "text/x-python",
   "name": "python",
   "nbconvert_exporter": "python",
   "pygments_lexer": "ipython3",
   "version": "3.7.0"
  }
 },
 "nbformat": 4,
 "nbformat_minor": 5
}
