{
 "cells": [
  {
   "cell_type": "markdown",
   "id": "7d3bc387",
   "metadata": {},
   "source": [
    "# Q1. Create one variable containing following type of data:\n"
   ]
  },
  {
   "cell_type": "code",
   "execution_count": null,
   "id": "6e5fbbac",
   "metadata": {},
   "outputs": [],
   "source": [
    "#String \n",
    "a = \"data science\"\n",
    "\n",
    "#list\n",
    "number = [1, 2, 3, 4, 5]\n",
    "\n",
    "# Float\n",
    "pi = 3.14159\n",
    "\n",
    "# Tuple\n",
    "orders = (\"apple\", \"banana\", \"cherry\")\n",
    "\n",
    "print(a)\n",
    "print(number)\n",
    "print(orders)\n",
    "print(pi)\n"
   ]
  },
  {
   "cell_type": "code",
   "execution_count": null,
   "id": "f231f2d5",
   "metadata": {},
   "outputs": [],
   "source": []
  },
  {
   "cell_type": "markdown",
   "id": "3768fa7d",
   "metadata": {},
   "source": [
    "# Q2. Given are some following variables containing data:\n",
    "(i) var1 = ‘ ‘\n",
    "(ii) var2 = ‘[ DS , ML , Python]’\n",
    "(iii) var3 = [ ‘DS’ , ’ML’ , ‘Python’ ]\n",
    "(iv) var4 = 1.\n",
    "What will be the data type of the above given variable."
   ]
  },
  {
   "cell_type": "code",
   "execution_count": null,
   "id": "b8ec65fe",
   "metadata": {},
   "outputs": [],
   "source": [
    "var1 = \" \"\n",
    "print(type(var1))\n",
    "\n",
    "var2 = '[ DS , ML , Python]'\n",
    "print(type(var2))\n",
    "\n",
    "var3 = [ \"DS\" , \"ML\" , \"Python\" ]\n",
    "print(type(var3))\n",
    "\n",
    "var4 = 1\n",
    "print(type(var4))"
   ]
  },
  {
   "cell_type": "code",
   "execution_count": null,
   "id": "94240510",
   "metadata": {},
   "outputs": [],
   "source": []
  },
  {
   "cell_type": "markdown",
   "id": "5a89991d",
   "metadata": {},
   "source": [
    "# Q3. Explain the use of the following operators using an example:\n",
    "(i) /\n",
    "(ii) %\n",
    "(iii) //\n",
    "(iv) **"
   ]
  },
  {
   "cell_type": "code",
   "execution_count": null,
   "id": "fbcbb74b",
   "metadata": {},
   "outputs": [],
   "source": [
    "(i) / (Division Operator):\n",
    "The division operator / is used to divide one number by another and returns the quotient as a floating-point number.\n",
    "\n",
    "(ii) % (Modulo Operator):\n",
    "The modulo operator % is used to find the remainder of a division operation. It returns the remainder when one number is divided by another.\n",
    "\n",
    "(iii) // (Floor Division Operator):\n",
    "The floor division operator // divides one number by another and returns the quotient as an integer, rounding down towards negative infinity.\n",
    "\n",
    "(iv) ** (Exponentiation Operator):\n",
    "The exponentiation operator ** is used to raise a number to the power of another number.\n"
   ]
  },
  {
   "cell_type": "code",
   "execution_count": null,
   "id": "15410750",
   "metadata": {},
   "outputs": [],
   "source": []
  },
  {
   "cell_type": "markdown",
   "id": "8d416988",
   "metadata": {},
   "source": [
    "# Q4. Create a list of length 10 of your choice containing multiple types of data. Using for loop print the element and its data type."
   ]
  },
  {
   "cell_type": "code",
   "execution_count": 1,
   "id": "cdc63450",
   "metadata": {},
   "outputs": [
    {
     "name": "stdout",
     "output_type": "stream",
     "text": [
      "Apple <class 'str'>\n",
      "2 <class 'int'>\n",
      "[3, 4, 5] <class 'list'>\n",
      "None <class 'NoneType'>\n",
      "True <class 'bool'>\n",
      "3.14 <class 'float'>\n",
      "{'Jam', 'Butter', 'Bread'} <class 'set'>\n",
      "{'name': 'Dhoni', 'age': 23} <class 'dict'>\n",
      "(9, 9, 2000) <class 'tuple'>\n"
     ]
    }
   ],
   "source": [
    "list = [ \"Apple\", 2, [3,4,5], None, True, 3.14, {'Bread','Butter','Jam'}, {'name': 'Dhoni', 'age': 23}, (9,9,2000), ]\n",
    "for i in list:\n",
    "    print(i, type(i))"
   ]
  },
  {
   "cell_type": "code",
   "execution_count": null,
   "id": "b36e9bb4",
   "metadata": {},
   "outputs": [],
   "source": []
  },
  {
   "cell_type": "markdown",
   "id": "47ab32aa",
   "metadata": {},
   "source": [
    "# Q5. Using a while loop, verify if the number A is purely divisible by number B and if so then how many times it can be divisible."
   ]
  },
  {
   "cell_type": "code",
   "execution_count": 7,
   "id": "9341d917",
   "metadata": {},
   "outputs": [
    {
     "name": "stdout",
     "output_type": "stream",
     "text": [
      "8\n",
      "2\n",
      "Number A can be divided 3 times by number B.\n"
     ]
    }
   ],
   "source": [
    "A = int(input())\n",
    "B = int(input())\n",
    "count = 0\n",
    "while A % B == 0:\n",
    "    A = A / B\n",
    "    count += 1\n",
    "print(\"Number A can be divided\", count, \"times by number B.\")"
   ]
  },
  {
   "cell_type": "code",
   "execution_count": null,
   "id": "5196dd6d",
   "metadata": {},
   "outputs": [],
   "source": []
  },
  {
   "cell_type": "markdown",
   "id": "390afa45",
   "metadata": {},
   "source": [
    "# Q6. Create a list containing 25 int type data. Using for loop and if-else condition print if the element is divisible by 3 or not."
   ]
  },
  {
   "cell_type": "code",
   "execution_count": 9,
   "id": "b98adf3d",
   "metadata": {},
   "outputs": [
    {
     "name": "stdout",
     "output_type": "stream",
     "text": [
      "12 is divisible by 3.\n",
      "6 is divisible by 3.\n",
      "8 is not divisible by 3.\n",
      "9 is divisible by 3.\n",
      "15 is divisible by 3.\n",
      "18 is divisible by 3.\n",
      "21 is divisible by 3.\n",
      "25 is not divisible by 3.\n",
      "30 is divisible by 3.\n",
      "33 is divisible by 3.\n",
      "36 is divisible by 3.\n",
      "40 is not divisible by 3.\n",
      "42 is divisible by 3.\n",
      "45 is divisible by 3.\n",
      "48 is divisible by 3.\n",
      "50 is not divisible by 3.\n",
      "51 is divisible by 3.\n",
      "54 is divisible by 3.\n",
      "57 is divisible by 3.\n",
      "60 is divisible by 3.\n",
      "63 is divisible by 3.\n",
      "66 is divisible by 3.\n",
      "70 is not divisible by 3.\n",
      "72 is divisible by 3.\n",
      "75 is divisible by 3.\n"
     ]
    }
   ],
   "source": [
    "list = [12, 6, 8, 9, 15, 18, 21, 25, 30, 33, 36, 40, 42, 45, 48, 50, 51, 54, 57, 60, 63, 66, 70, 72, 75]\n",
    "for num in list:\n",
    "    if num % 3 == 0:\n",
    "        print(num, \"is divisible by 3.\")\n",
    "    else:\n",
    "        print(num, \"is not divisible by 3.\")"
   ]
  },
  {
   "cell_type": "code",
   "execution_count": null,
   "id": "399e67e5",
   "metadata": {},
   "outputs": [],
   "source": []
  },
  {
   "cell_type": "markdown",
   "id": "63deaf79",
   "metadata": {},
   "source": [
    "# Q7. What do you understand about mutable and immutable data types? Give examples for both showing this property."
   ]
  },
  {
   "cell_type": "markdown",
   "id": "1eb304db",
   "metadata": {},
   "source": [
    "# Mutable \n",
    "Mutable data types are those whose values can be modified after assignment. This means that operations can directly modify the existing object without creating a new object. Some examples of mutable data types in Python are:\n",
    "list\n",
    "dict\n",
    "set\n",
    "\n",
    "# Mutable Example - Lists\n",
    "numbers = [1, 2, 3]\n",
    "print(numbers)  # Output: [1, 2, 3]\n",
    "\n",
    "# Modifying the list\n",
    "numbers.append(4)\n",
    "print(numbers)\n",
    "\n",
    "# Immutable\n",
    "Immutable data types are those whose values cannot be changed once they are assigned. Any operation that appears to modify an immutable object actually creates a new object with the modified value. Some examples of immutable data types in Python are:\n",
    "int\n",
    "float\n",
    "bool\n",
    "str\n",
    "tuple\n",
    "\n",
    "name = \"Mahendra Singh\"\n",
    "print(name)  # Output: Mahendra\n",
    "\n",
    "# Attempting to modify the string\n",
    "name = name + \" Dhoni\"\n",
    "print(name)  # Output: Mahendra Singh Dhoni"
   ]
  }
 ],
 "metadata": {
  "kernelspec": {
   "display_name": "Python 3 (ipykernel)",
   "language": "python",
   "name": "python3"
  },
  "language_info": {
   "codemirror_mode": {
    "name": "ipython",
    "version": 3
   },
   "file_extension": ".py",
   "mimetype": "text/x-python",
   "name": "python",
   "nbconvert_exporter": "python",
   "pygments_lexer": "ipython3",
   "version": "3.7.0"
  }
 },
 "nbformat": 4,
 "nbformat_minor": 5
}
