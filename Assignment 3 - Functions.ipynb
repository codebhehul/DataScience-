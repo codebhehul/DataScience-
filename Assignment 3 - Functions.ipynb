{
 "cells": [
  {
   "cell_type": "markdown",
   "id": "8bb20016",
   "metadata": {},
   "source": [
    "# Q1. Which keyword is used to create a function? Create a function to return a list of odd numbers in the range of 1 to 25."
   ]
  },
  {
   "cell_type": "code",
   "execution_count": 1,
   "id": "cd45cecc",
   "metadata": {},
   "outputs": [
    {
     "name": "stdout",
     "output_type": "stream",
     "text": [
      "[1, 3, 5, 7, 9, 11, 13, 15, 17, 19, 21, 23, 25]\n"
     ]
    }
   ],
   "source": [
    "# The keyword used to create a function in python programming languages is \"def\". An example of a Python function that returns a list of odd numbers in the range of 1 to 25:\n",
    "def odd_num():\n",
    "    odd_num = []\n",
    "    for num1 in range(1, 26):\n",
    "        if num1 % 2 != 0:\n",
    "            odd_num.append(num1)\n",
    "    return odd_num\n",
    "\n",
    "# Call the function and print the result\n",
    "print(odd_num())"
   ]
  },
  {
   "cell_type": "code",
   "execution_count": null,
   "id": "fa3042e4",
   "metadata": {},
   "outputs": [],
   "source": []
  },
  {
   "cell_type": "markdown",
   "id": "7cf26fe8",
   "metadata": {},
   "source": [
    "# Q2. Why *args and **kwargs is used in some functions? Create a function each for *args and **kwargs to demonstrate their use.\n",
    "\n"
   ]
  },
  {
   "cell_type": "code",
   "execution_count": 4,
   "id": "4d3f54c9",
   "metadata": {},
   "outputs": [
    {
     "name": "stdout",
     "output_type": "stream",
     "text": [
      "Hello\n",
      "World\n",
      "1\n",
      "2\n",
      "3\n",
      "4\n",
      "5\n",
      "name: Rohit\n",
      "age: 25\n",
      "city: Mumbai\n",
      "country: India\n"
     ]
    }
   ],
   "source": [
    "#The *args and **kwargs are used in python functions to allow for variable-length arguments, it is flexible way to pass a varying number of arguments to a function. \n",
    "# for eg:\n",
    "\n",
    "def arg(*args):\n",
    "    for arg in args:\n",
    "        print(arg)\n",
    "\n",
    "arg('Hello', 'World')\n",
    "arg(1, 2, 3, 4, 5)\n",
    "\n",
    "def argu(**kwargs):\n",
    "    for key, value in kwargs.items():\n",
    "        print(f'{key}: {value}')\n",
    "\n",
    "argu(name='Rohit', age=25)\n",
    "argu(city='Mumbai', country='India')"
   ]
  },
  {
   "cell_type": "code",
   "execution_count": null,
   "id": "8329d997",
   "metadata": {},
   "outputs": [],
   "source": []
  },
  {
   "cell_type": "markdown",
   "id": "5760b883",
   "metadata": {},
   "source": [
    "# Q3. What is an iterator in python? Name the method used to initialise the iterator object and the method used for iteration. Use these methods to print the first five elements of the given list [2, 4, 6, 8, 10, 12, 14, 16,18, 20]."
   ]
  },
  {
   "cell_type": "code",
   "execution_count": 5,
   "id": "1e8ad0b4",
   "metadata": {},
   "outputs": [
    {
     "name": "stdout",
     "output_type": "stream",
     "text": [
      "2\n",
      "4\n",
      "6\n",
      "8\n",
      "10\n"
     ]
    }
   ],
   "source": [
    "''' An iterator is an object that implements the iterator protocol, the two methods used to initialise the iterator object and the method used for iteration are: __iter__() and __next__().\n",
    " __iter__(): This method is used to initialize the iterator object. It returns the iterator object itself. It is called when you want to iterate over the elements of an object. \n",
    " __next__(): This method is used for iteration. It returns the next item from the iterator.''' \n",
    "class num:\n",
    "    def __init__(self):\n",
    "        self.current = 2\n",
    "\n",
    "    def __iter__(self):\n",
    "        return self\n",
    "\n",
    "    def __next__(self):\n",
    "        if self.current <= 20:\n",
    "            number = self.current\n",
    "            self.current += 2\n",
    "            return number\n",
    "        else:\n",
    "            raise StopIteration\n",
    "\n",
    "iterator = num()\n",
    "\n",
    "for _ in range(5):\n",
    "    print(next(iterator))"
   ]
  },
  {
   "cell_type": "code",
   "execution_count": null,
   "id": "f498a1a7",
   "metadata": {},
   "outputs": [],
   "source": []
  },
  {
   "cell_type": "markdown",
   "id": "bc35457f",
   "metadata": {},
   "source": [
    "# Q4. What is a generator function in python? Why yield keyword is used? Give an example of a generator function."
   ]
  },
  {
   "cell_type": "code",
   "execution_count": 7,
   "id": "52530efd",
   "metadata": {},
   "outputs": [
    {
     "name": "stdout",
     "output_type": "stream",
     "text": [
      "2\n",
      "4\n",
      "6\n",
      "8\n",
      "10\n"
     ]
    }
   ],
   "source": [
    "''' A generator function in python is a special type of function that generates a sequence of values using the yield keyword, generator functions can pause their execution and later resume from where they left off, allowing them to produce a series of values over time.\n",
    "The yield keyword is used in a generator function to define a value that will be yielded (returned) to the caller each time the generator function is called. '''\n",
    "def num():\n",
    "    numbers = 1\n",
    "    while True:\n",
    "        yield number\n",
    "        number += 1\n",
    "\n",
    "# Create a generator object\n",
    "generator = generate_numbers()\n",
    "\n",
    "# Print the first five numbers\n",
    "for _ in range(5):\n",
    "    print(next(generator))\n"
   ]
  },
  {
   "cell_type": "code",
   "execution_count": null,
   "id": "2b0f11df",
   "metadata": {},
   "outputs": [],
   "source": []
  },
  {
   "cell_type": "markdown",
   "id": "fc8af044",
   "metadata": {},
   "source": [
    "# Q5. Create a generator function for prime numbers less than 1000. Use the next() method to print the first 20 prime numbers."
   ]
  },
  {
   "cell_type": "code",
   "execution_count": 8,
   "id": "b1796618",
   "metadata": {},
   "outputs": [
    {
     "name": "stdout",
     "output_type": "stream",
     "text": [
      "2\n",
      "3\n",
      "5\n",
      "7\n",
      "11\n",
      "13\n",
      "17\n",
      "19\n",
      "23\n",
      "29\n",
      "31\n",
      "37\n",
      "41\n",
      "43\n",
      "47\n",
      "53\n",
      "59\n",
      "61\n",
      "67\n",
      "71\n"
     ]
    }
   ],
   "source": [
    "def primenum():\n",
    "    primes = []\n",
    "    num = 2\n",
    "    while True:\n",
    "        if all(num % prime != 0 for prime in primes):\n",
    "            primes.append(num)\n",
    "            yield num\n",
    "        num += 1\n",
    "\n",
    "# Create a generator object\n",
    "generator = primenum()\n",
    "\n",
    "# Print the first 20 prime numbers\n",
    "for _ in range(20):\n",
    "    print(next(generator))\n"
   ]
  },
  {
   "cell_type": "code",
   "execution_count": null,
   "id": "c5fe6dab",
   "metadata": {},
   "outputs": [],
   "source": []
  }
 ],
 "metadata": {
  "kernelspec": {
   "display_name": "Python 3 (ipykernel)",
   "language": "python",
   "name": "python3"
  },
  "language_info": {
   "codemirror_mode": {
    "name": "ipython",
    "version": 3
   },
   "file_extension": ".py",
   "mimetype": "text/x-python",
   "name": "python",
   "nbconvert_exporter": "python",
   "pygments_lexer": "ipython3",
   "version": "3.7.0"
  }
 },
 "nbformat": 4,
 "nbformat_minor": 5
}
