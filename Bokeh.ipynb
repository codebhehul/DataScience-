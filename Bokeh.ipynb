{
 "cells": [
  {
   "cell_type": "markdown",
   "id": "277f61ee",
   "metadata": {},
   "source": [
    "# Q1. How can you create a Bokeh plot using Python code?\n",
    "\n",
    "To create a Bokeh plot using Python code, you need to follow these general steps:\n",
    "1. Install Bokeh: Ensure that have Bokeh installed in Python environment.\n",
    "2. Import Bokeh: Import the necessary modules and functions from Bokeh.\n",
    "3. Create Data: Prepare the data want to visualize. This can be done using Python data structures like lists or NumPy arrays.\n",
    "4. Create a Figure: Create a Bokeh figure using the figure function.\n",
    "5. Add Glyphs: Add glyphs (visual shapes) to the figure to display your data. Common glyphs include circles, lines, and bars.\n",
    "6. Customize Appearance: Customize the appearance of the plot by setting attributes for the figure, axes, title, and legend.\n",
    "7. Output the Plot: Specify where to display the plot, either in a standalone HTML file or in a Jupyter Notebook cell.\n",
    "8. Show the Plot: Finally, use the show function to display the Bokeh plot."
   ]
  },
  {
   "cell_type": "code",
   "execution_count": null,
   "id": "05a7d102",
   "metadata": {},
   "outputs": [],
   "source": []
  },
  {
   "cell_type": "markdown",
   "id": "8e5d625c",
   "metadata": {},
   "source": [
    "# Q2. What are glyphs in Bokeh, and how can you add them to a Bokeh plot? Explain with an example.\n",
    "\n",
    "In Bokeh, glyphs are visual shapes or markers used to represent data points on a plot. Glyphs can include circles, squares, lines, bars, and more. You can add glyphs to a Bokeh plot using methods like circle, square, line, and so on, depending on the type of glyph you want to use."
   ]
  },
  {
   "cell_type": "code",
   "execution_count": 3,
   "id": "ca077ca2",
   "metadata": {},
   "outputs": [],
   "source": [
    "from bokeh.plotting import figure, show\n",
    "p = figure()\n",
    "# Data\n",
    "x = [1, 2, 3, 4, 5]\n",
    "y = [6, 7, 2, 4, 8]\n",
    "p.circle(x, y, size=10, color=\"blue\")\n",
    "show(p)"
   ]
  },
  {
   "cell_type": "code",
   "execution_count": null,
   "id": "43d3ab56",
   "metadata": {},
   "outputs": [],
   "source": []
  },
  {
   "cell_type": "markdown",
   "id": "5956934c",
   "metadata": {},
   "source": [
    "# Q3. How can you customize the appearance of a Bokeh plot, including the axes, title, and legend?"
   ]
  },
  {
   "cell_type": "code",
   "execution_count": null,
   "id": "2c0f863a",
   "metadata": {},
   "outputs": [],
   "source": []
  },
  {
   "cell_type": "markdown",
   "id": "8a60054a",
   "metadata": {},
   "source": [
    "# Q4. What is a Bokeh server, and how can you use it to create interactive plots that can be updated in real time?"
   ]
  },
  {
   "cell_type": "markdown",
   "id": "bc2469e9",
   "metadata": {},
   "source": [
    "# Q5. How can you embed a Bokeh plot into a web page or dashboard using Flask or Django?"
   ]
  }
 ],
 "metadata": {
  "kernelspec": {
   "display_name": "Python 3 (ipykernel)",
   "language": "python",
   "name": "python3"
  },
  "language_info": {
   "codemirror_mode": {
    "name": "ipython",
    "version": 3
   },
   "file_extension": ".py",
   "mimetype": "text/x-python",
   "name": "python",
   "nbconvert_exporter": "python",
   "pygments_lexer": "ipython3",
   "version": "3.7.0"
  }
 },
 "nbformat": 4,
 "nbformat_minor": 5
}
