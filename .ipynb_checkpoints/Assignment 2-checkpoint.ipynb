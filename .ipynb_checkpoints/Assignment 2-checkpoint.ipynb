{
 "cells": [
  {
   "cell_type": "markdown",
   "id": "925ba8a7",
   "metadata": {},
   "source": [
    "# Q1. How do you comment code in Python? What are the different types of comments?"
   ]
  },
  {
   "cell_type": "markdown",
   "id": "ffd16002",
   "metadata": {},
   "source": [
    "In Python '#' character for single-line comments and triple quotes (''' or \"\"\") for multi-line comments. The diffrent types of comments are:\n",
    "1.Single-line comments: To add a comment on a single line, you can add # character. Any text after the # character on that line is considered a comment and is ignored by the Python interpreter. \n",
    "For example:\n",
    "\n",
    "#This is a single-line comment\n",
    "print(\"Hello, world!\")\n",
    "\n",
    "2.Multi-line comments: You can use triple quotes (''' or \"\"\") to create multi-line strings, which are often used as comments. While these multi-line strings are not ignored by the interpreter, they serve the purpose of commenting out multiple lines of code. \n",
    "For example:\n",
    "'''\n",
    "This is a multi-line comment.\n",
    "It can span across multiple lines.\n",
    "'''\n",
    "print(\"Hello, world!\")\n"
   ]
  },
  {
   "cell_type": "code",
   "execution_count": null,
   "id": "dad959f5",
   "metadata": {},
   "outputs": [],
   "source": []
  },
  {
   "cell_type": "markdown",
   "id": "3e0c29cf",
   "metadata": {},
   "source": [
    "# Q2. What are variables in Python? How do you declare and assign values to variables?"
   ]
  },
  {
   "cell_type": "markdown",
   "id": "28ecd532",
   "metadata": {},
   "source": [
    "In Python variables are essentially names or labels that represent a memory location where values are stored. Variables in Python can hold different types of data such as numbers, strings, lists, or more complex objects.\n",
    "To declare and assign values to variables in Python, you simply use the assignment operator.\n",
    "\n",
    "Examples\n",
    "name = \"Mahi\"\n",
    "age = 41\n",
    " \n",
    "# Printing the variables\n",
    "print(name)    # Output: John\n",
    "print(age)     # Output: 25\n",
    "print(height)  # Output: 1.75"
   ]
  },
  {
   "cell_type": "code",
   "execution_count": null,
   "id": "3c6ee0d1",
   "metadata": {},
   "outputs": [],
   "source": []
  },
  {
   "cell_type": "markdown",
   "id": "25f1c26a",
   "metadata": {},
   "source": [
    "# Q3. How do you convert one data type to another in Python?"
   ]
  },
  {
   "cell_type": "code",
   "execution_count": null,
   "id": "00b49fb9",
   "metadata": {},
   "outputs": [],
   "source": []
  },
  {
   "cell_type": "code",
   "execution_count": null,
   "id": "31b55013",
   "metadata": {},
   "outputs": [],
   "source": []
  },
  {
   "cell_type": "markdown",
   "id": "f9223ca1",
   "metadata": {},
   "source": [
    "# Q4. How do you write and execute a Python script from the command line?"
   ]
  },
  {
   "cell_type": "code",
   "execution_count": null,
   "id": "fba327a5",
   "metadata": {},
   "outputs": [],
   "source": []
  },
  {
   "cell_type": "code",
   "execution_count": null,
   "id": "2f382979",
   "metadata": {},
   "outputs": [],
   "source": []
  },
  {
   "cell_type": "markdown",
   "id": "d074e045",
   "metadata": {},
   "source": [
    "# Q5. Given a list my_list = [1, 2, 3, 4, 5], write the code to slice the list and obtain the sub-list [2, 3]."
   ]
  }
 ],
 "metadata": {
  "kernelspec": {
   "display_name": "Python 3 (ipykernel)",
   "language": "python",
   "name": "python3"
  },
  "language_info": {
   "codemirror_mode": {
    "name": "ipython",
    "version": 3
   },
   "file_extension": ".py",
   "mimetype": "text/x-python",
   "name": "python",
   "nbconvert_exporter": "python",
   "pygments_lexer": "ipython3",
   "version": "3.7.0"
  }
 },
 "nbformat": 4,
 "nbformat_minor": 5
}
