{
 "cells": [
  {
   "cell_type": "markdown",
   "id": "b2775935",
   "metadata": {},
   "source": [
    "# Q1. What is multithreading in python? Why is it used? Name the module used to handle threads in python. \n",
    "\n",
    "A thread is a lightweight sub-process that can be scheduled and executed independently using multithreading, different parts of a program can run concurrently, allowing for improved performance and responsiveness.\n",
    "\n",
    "Multithreading is used in Python to perform tasks that can benefit from parallel execution:-\n",
    "1. Improving performance: By executing multiple threads simultaneously, certain tasks can be completed faster, making better use of available resources.\n",
    "2. Enhancing responsiveness: Multithreading allows a program to continue responding to user input while performing time-consuming operations in the background. \n",
    "3. Managing concurrent operations: Multithreading is useful when dealing with concurrent operations, such as handling multiple network connections or processing data from multiple sources simultaneously.\n",
    "\n",
    "The module used to handle threads in Python is called 'threading'. It provides a high-level interface for creating, controlling, and synchronizing threads."
   ]
  },
  {
   "cell_type": "code",
   "execution_count": null,
   "id": "e89979b6",
   "metadata": {},
   "outputs": [],
   "source": []
  },
  {
   "cell_type": "markdown",
   "id": "09151b8e",
   "metadata": {},
   "source": [
    "# Q2. Why threading module used? Write the use of the following functions 1. activeCount(), 2. currentThread(), 3. enumerat()."
   ]
  },
  {
   "cell_type": "code",
   "execution_count": 1,
   "id": "aa4824ff",
   "metadata": {},
   "outputs": [
    {
     "name": "stdout",
     "output_type": "stream",
     "text": [
      "Thread started: Thread-5\n",
      "Thread started: Thread-6\n",
      "Thread started: Thread-7\n",
      "Active threads: 6\n",
      "Current thread name: MainThread\n",
      "All active threads:\n",
      "MainThread\n",
      "IOPub\n",
      "Heartbeat\n",
      "Control\n",
      "IPythonHistorySavingThread\n",
      "Thread-4\n"
     ]
    }
   ],
   "source": [
    "# The threading module in Python is used to handle threads and provides a higher-level interface for working with threads. It simplifies the process of creating, controlling, and synchronizing threads in a Python program.\n",
    "# The use of the following functions from the threading module:\n",
    "# 1. activeCount(): This function is used to obtain the number of currently active threads, including the main thread. It can be useful for monitoring the number of active threads during the execution of a program.\n",
    "# 2. currentThread(): This function returns the Thread object corresponding to the currently executing thread, it also allows to obtain a reference to the currently running thread. This function can be used to access various properties and methods of the current thread, such as its name or identification number (thread ID).\n",
    "# 3. enumerate(): The enumerate() function returns a list of all currently active Thread objects, it provides a convenient way to obtain a list of all threads currently running in the program and it can be access the properties and methods of each thread in the list. \n",
    "import threading\n",
    "def worker():\n",
    "    print(\"Thread started:\", threading.currentThread().getName())\n",
    "threads = []\n",
    "for i in range(3):\n",
    "    t = threading.Thread(target=worker)\n",
    "    threads.append(t)\n",
    "    t.start()\n",
    "print(\"Active threads:\", threading.activeCount())\n",
    "current_thread = threading.currentThread()\n",
    "print(\"Current thread name:\", current_thread.getName())\n",
    "print(\"All active threads:\")\n",
    "for thread in threading.enumerate():\n",
    "    print(thread.getName())\n"
   ]
  },
  {
   "cell_type": "code",
   "execution_count": null,
   "id": "d7783175",
   "metadata": {},
   "outputs": [],
   "source": []
  },
  {
   "cell_type": "markdown",
   "id": "75f2ac9f",
   "metadata": {},
   "source": [
    "# Q3. Explain the following functions:- 1. run(), 2. start(), 3. join(), 4. isAlive().\n",
    "\n",
    "1. run():- When a Thread object's start() method it automatically calls the run() method internally to execute the target function or code block associated with that thread. The run() method should be overridden in a subclass of Thread to define the thread's behavior.\n",
    "\n",
    "2. Start():- The start() method is used to start the execution of a thread, it causes the thread to begin executing its run() method in a separate thread of control. The start() method initializes the thread, schedules it for execution, and returns immediately it allows multiple threads to run concurrently.\n",
    "\n",
    "3. join():- The join() method is used to wait for the completion of a thread. When a thread is created and started, the program continues execution without waiting for the thread to finish. The join() method allows the program to wait until the thread has completed its execution. \n",
    "\n",
    "4. isAlive():- The isAlive() method is used to check if a thread is currently executing or still active. It returns True if the thread is alive (i.e., executing), and False otherwise. This method is often used in conjunction with join() to check the status of a thread and perform actions based on its current state"
   ]
  },
  {
   "cell_type": "code",
   "execution_count": null,
   "id": "71baa1cd",
   "metadata": {},
   "outputs": [],
   "source": []
  },
  {
   "cell_type": "markdown",
   "id": "dbc797ed",
   "metadata": {},
   "source": [
    "# Q4. Write a python program to create two threads. Thread one must print the list of squares and thread two must print the list of cubes."
   ]
  },
  {
   "cell_type": "code",
   "execution_count": 2,
   "id": "916fbf6e",
   "metadata": {},
   "outputs": [
    {
     "name": "stdout",
     "output_type": "stream",
     "text": [
      "Square of 1: 1\n",
      "Square of 2: 4\n",
      "Square of 3: 9\n",
      "Square of 4: 16\n",
      "Cube of 1: 1\n",
      "Square of 5: 25\n",
      "Cube of 2: 8\n",
      "Cube of 3: 27\n",
      "Cube of 4: 64\n",
      "Cube of 5: 125\n",
      "Program finished.\n"
     ]
    }
   ],
   "source": [
    "import threading\n",
    "\n",
    "def print_squares():\n",
    "    for i in range(1, 6):\n",
    "        square = i * i\n",
    "        print(f\"Square of {i}: {square}\")\n",
    "def print_cubes():\n",
    "    for i in range(1, 6):\n",
    "        cube = i * i * i\n",
    "        print(f\"Cube of {i}: {cube}\")\n",
    "thread_squares = threading.Thread(target = print_squares)\n",
    "thread_cubes = threading.Thread(target = print_cubes)\n",
    "thread_squares.start()\n",
    "thread_cubes.start()\n",
    "thread_squares.join()\n",
    "thread_cubes.join()\n",
    "print(\"Program finished.\")\n"
   ]
  },
  {
   "cell_type": "code",
   "execution_count": null,
   "id": "a571138e",
   "metadata": {},
   "outputs": [],
   "source": []
  },
  {
   "cell_type": "markdown",
   "id": "f3fb277e",
   "metadata": {},
   "source": [
    "# Q5. State advantages and disadvantages of multithreading.\n",
    "\n",
    "Multithreading have several advantages and disadvantages:-\n",
    "\n",
    "Advantages of Multithreading:\n",
    "1. Improved Performance: Multithreading can enhance performance by executing multiple threads concurrently. This can lead to faster execution times, particularly when dealing with tasks that can be parallelized, such as data processing or handling multiple client requests.\n",
    "\n",
    "2. Responsiveness: Multithreading allows programs to remain responsive even while executing time-consuming operations. By separating time-intensive tasks into threads, the main thread can continue to respond to user input, ensuring a smoother user experience.\n",
    "\n",
    "3. Resource Utilization: Multithreading enables efficient utilization of system resources, such as CPU cores. By distributing tasks across multiple threads, it can make optimal use of available computing power, maximizing overall system efficiency.\n",
    "\n",
    "4. Simplified Programming: Multithreading can simplify programming in certain scenarios. It allows developers to structure their code in a more natural and intuitive way, focusing on separate threads for different tasks or components. This can lead to cleaner and more manageable code.\n",
    "\n",
    "Disadvantages of Multithreading:\n",
    "\n",
    "1. Complexity: Multithreaded programming introduces additional complexity. Coordination between threads, managing shared resources, and avoiding race conditions can be challenging.\n",
    "\n",
    "2. Synchronization Overhead: When multiple threads access shared resources, synchronization mechanisms such as locks are required to ensure data consistency and prevent conflicts. These synchronization mechanisms introduce overhead, as threads may need to wait for resources to become available, potentially impacting performance.\n",
    "\n",
    "3. Potential for Deadlocks and Race Conditions: Improper handling of shared resources can lead to issues such as deadlocks or race condition. These issues can be challenging to identify and resolve.\n",
    "\n",
    "4. Increased Memory Usage: Each thread in a multithreaded program has its own stack and thread-specific data. This can lead to increased memory usage compared to a single-threaded program, particularly when creating a large number of threads."
   ]
  },
  {
   "cell_type": "code",
   "execution_count": null,
   "id": "b19501bb",
   "metadata": {},
   "outputs": [],
   "source": []
  },
  {
   "cell_type": "markdown",
   "id": "0f42fd48",
   "metadata": {},
   "source": [
    "# Q6. Explain deadlocks and race conditions.\n",
    "\n",
    "Deadlocks: A deadlock occurs when two or more threads are blocked indefinitely, each waiting for a resource that is held by another thread in the set. This situation leads to a state where no thread can proceed, resulting in a deadlock. Deadlocks can occur due to a lack of proper synchronization and resource management.\n",
    "\n",
    "A deadlock typically involves the following four conditions:\n",
    "\n",
    "1. Mutual Exclusion: At least one resource must be held in a non-sharable mode, meaning it can only be used by one thread at a time.\n",
    "2. Hold and Wait: A thread must be holding at least one resource while waiting to acquire another resource held by a different thread.\n",
    "3. No Preemption: Resources cannot be forcibly taken away from a thread. A thread must release a resource voluntarily.\n",
    "4. Circular Wait: There exists a circular chain of two or more threads, where each thread is waiting for a resource held by another thread in the chain.\n",
    "\n",
    "Race Conditions: A race condition occurs when multiple threads access shared data concurrently and the final outcome depends on the relative timing or interleaving of their execution. It results in an unpredictable and non-deterministic behavior of the program. Race conditions typically arise when multiple threads perform operations on shared resources without proper synchronization. The lack of synchronization mechanisms, such as locks or semaphores, can lead to data corruption, inconsistencies or incorrect results. For example, suppose two threads are simultaneously trying to increment a shared variable. Without proper synchronization, they may read the variable's value, increment it independently, and write back the updated value, causing one or more increments to be lost."
   ]
  },
  {
   "cell_type": "code",
   "execution_count": null,
   "id": "31b9a4c3",
   "metadata": {},
   "outputs": [],
   "source": []
  }
 ],
 "metadata": {
  "kernelspec": {
   "display_name": "Python 3 (ipykernel)",
   "language": "python",
   "name": "python3"
  },
  "language_info": {
   "codemirror_mode": {
    "name": "ipython",
    "version": 3
   },
   "file_extension": ".py",
   "mimetype": "text/x-python",
   "name": "python",
   "nbconvert_exporter": "python",
   "pygments_lexer": "ipython3",
   "version": "3.7.0"
  }
 },
 "nbformat": 4,
 "nbformat_minor": 5
}
