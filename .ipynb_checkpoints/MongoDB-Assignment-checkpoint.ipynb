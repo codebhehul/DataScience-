{
 "cells": [
  {
   "cell_type": "markdown",
   "id": "03654e42",
   "metadata": {},
   "source": [
    "# Q1. What is MongoDB? Explain non-relational databases in short. In which scenarios it is preferred to use MongoDB over SQL databases?\n",
    "\n",
    "MongoDB is a popular NoSQL database management system that the category of non-relational databases. It is designed to store and manage large volumes of unstructured or semi-structured data specifically known as document-oriented databases. MongoDB stores data in a flexible, JSON-like format called BSON (Binary JSON), making it easy to work with data in a natural way.\n",
    "\n",
    "Non-relational databases are databases do not follow the traditional tabular structure of relational databases. Instead, they offer a more flexible and scalable approach to storing and retrieving data. Some key characteristics of non-relational databases include:\n",
    "\n",
    "1. Schema Flexibility: NoSQL databases allow you to store data without a predefined schema, meaning each document can have different fields and structures. This allows for easy modification and addition of fields without impacting other documents.\n",
    "\n",
    "2. Scalability: Non-relational databases are designed to scale horizontally, which means they can easily handle a large amount of data and traffic by distributing the data across multiple servers.\n",
    "\n",
    "3. High Performance: Due to their flexible structure and horizontal scalability, NoSQL databases can handle high read and write loads, making them suitable for real-time applications.\n",
    "\n",
    "4. Types of NoSQL Databases: There are various types of NoSQL databases, including document-oriented - MongoDB, key-value stores - Redis, column-family stores- Apache Cassandra, and graph databases- Neo4j.\n",
    "\n",
    "MongoDB is preferred over SQL databases in the following scenarios:\n",
    "\n",
    "1. Unstructured or Semi-Structured Data: When dealing with data that doesn't fit neatly into rigid tabular structures, such as JSON or BSON documents.\n",
    "\n",
    "2. Scalability and Flexibility: MongoDB excels at horizontal scaling, making it suitable for applications that require handling large volumes of data and high levels of traffic.\n",
    "\n",
    "3. Agile Development and Rapid Prototyping: MongoDB's schema-less nature allows for quick changes to data structure, which is beneficial during early development stages.\n",
    "\n",
    "4. Real-time Analytics and IoT: Use cases where data arrives in varying formats and needs to be processed and analyzed in real-time, such as Internet of Things (IoT) applications.\n",
    "\n",
    "5. Document and Content Management: Applications that involve storing, retrieving, and managing diverse types of documents or content, like content management systems (CMS).\n",
    "\n",
    "6. Geospatial Data: For applications dealing with geospatial data, MongoDB provides powerful geospatial querying capabilities.\n",
    "\n",
    "7. High Write Loads: When write-intensive workloads are expected, as MongoDB's architecture is optimized for fast writes.\n",
    "\n",
    "8. Complex Hierarchical Data: Storing hierarchical or nested data structures is more natural in MongoDB compared to relational databases."
   ]
  },
  {
   "cell_type": "code",
   "execution_count": null,
   "id": "83b04bf4",
   "metadata": {},
   "outputs": [],
   "source": []
  },
  {
   "cell_type": "markdown",
   "id": "bb13242d",
   "metadata": {},
   "source": [
    "# Q2. State and Explain the features of MongoDB.\n",
    "\n",
    "-> MongoDB, a popular NoSQL database, offers several features that make it suitable for various use cases.\n",
    "\n",
    "1. Flexible Schema: MongoDB uses a flexible schema design, allowing to store data without a predefined structure. This is particularly useful for applications that deal with dynamic or evolving data.\n",
    "\n",
    "2. Document-Oriented: MongoDB stores data in documents, typically in BSON (binary JSON) format. A document can hold complex nested structures, arrays, and subdocuments, making it ideal for representing real-world objects.\n",
    "\n",
    "3. NoSQL and Non-Relational: MongoDB is a NoSQL database, which means it doesn't rely on traditional relational database concepts like tables and joins. Instead, it focuses on scalability, performance, and ease of use for specific use cases.\n",
    "\n",
    "4. High Scalability: MongoDB offers horizontal scalability through sharding, distributing data across multiple servers. This allows it to handle large amounts of data and high traffic loads.\n",
    "\n",
    "5. Automatic Sharding: MongoDB's sharding feature automatically distributes data across shards, ensuring balanced data distribution without manual intervention.\n",
    "\n",
    "6. Ad Hoc Queries: MongoDB supports dynamic queries using a powerful query language. This flexibility allows developers to retrieve specific fields from documents and filter results based on various criteria.\n",
    "\n",
    "7. Indexing: MongoDB provides support for various types of indexes, including single-field, compound, geospatial, and text indexes. Indexing improves query performance by facilitating rapid data retrieval.\n",
    "\n",
    "8. Aggregation Framework: MongoDB's aggregation pipeline allows developers to perform complex data transformations and computations on the server side, reducing the need to process data on the client side.\n",
    "\n",
    "9. Geospatial Queries: MongoDB supports geospatial data and indexing, enabling you to store and query location-based information efficiently.\n",
    "\n",
    "10. Replication: MongoDB offers built-in replication with automatic failover. Replica sets consist of primary and secondary nodes that ensure data redundancy and high availability.\n",
    "\n",
    "11. ACID Transactions: Starting from version 4.0, MongoDB supports multi-document ACID transactions, allowing to maintain data integrity even in complex operations.\n",
    "\n",
    "12. Capped Collections: Capped collections are fixed-size collections that maintain insertion order, making them suitable for scenarios like logging or event storage.\n",
    "\n",
    "13. TTL Indexes: Time-to-live (TTL) indexes automatically remove documents from a collection after a specified time, which is useful for managing data with expiration dates.\n",
    "\n",
    "14. Community and Ecosystem: MongoDB has a strong community and a rich ecosystem of tools, drivers, libraries, and resources, making it easier to develop and manage MongoDB-based applications."
   ]
  },
  {
   "cell_type": "code",
   "execution_count": null,
   "id": "c38e09bf",
   "metadata": {},
   "outputs": [],
   "source": []
  },
  {
   "cell_type": "markdown",
   "id": "a47f7524",
   "metadata": {},
   "source": [
    "# Q3. Write a code to connect MongoDB to Python. Also, create a database and a collection in MongoDB."
   ]
  },
  {
   "cell_type": "code",
   "execution_count": 4,
   "id": "1a2ae9b6",
   "metadata": {},
   "outputs": [],
   "source": [
    "import pymongo\n",
    "client = pymongo.MongoClient(\"mongodb://localhost:27017/\") \n",
    "mydb = client[\"mydatabase1\"]  \n",
    "mycollection = mydb[\"mycollection\"]  \n",
    "document = {\n",
    "    \"name\": \"Ram\",\n",
    "    \"age\": 30,\n",
    "    \"city\": \"New York\"\n",
    "}\n",
    "mycollection.insert_one(document)\n",
    "client.close()"
   ]
  },
  {
   "cell_type": "code",
   "execution_count": null,
   "id": "39ed2183",
   "metadata": {},
   "outputs": [],
   "source": []
  },
  {
   "cell_type": "markdown",
   "id": "d489653a",
   "metadata": {},
   "source": [
    "# Q4. Using the database and the collection created in question number 3, write a code to insert one record and insert many records. Use the find() and find_one() methods to print the inserted record."
   ]
  },
  {
   "cell_type": "code",
   "execution_count": 5,
   "id": "248b13e0",
   "metadata": {},
   "outputs": [
    {
     "name": "stdout",
     "output_type": "stream",
     "text": [
      "Inserted One Record: 64cdc97e72f7070822be49ca\n",
      "Inserted Many Records: [ObjectId('64cdc97e72f7070822be49cb'), ObjectId('64cdc97e72f7070822be49cc'), ObjectId('64cdc97e72f7070822be49cd')]\n",
      "Found Record: {'_id': ObjectId('64cdc97e72f7070822be49cb'), 'name': 'Rohit', 'age': 28, 'city': 'Mumbai'}\n",
      "All Records:\n",
      "{'_id': ObjectId('64cdc97b72f7070822be49c8'), 'name': 'Ram', 'age': 30, 'city': 'New York'}\n",
      "{'_id': ObjectId('64cdc97e72f7070822be49ca'), 'name': 'Shyam', 'age': 25, 'city': 'Mumbai'}\n",
      "{'_id': ObjectId('64cdc97e72f7070822be49cb'), 'name': 'Rohit', 'age': 28, 'city': 'Mumbai'}\n",
      "{'_id': ObjectId('64cdc97e72f7070822be49cc'), 'name': 'Virat', 'age': 22, 'city': 'Bangalore'}\n",
      "{'_id': ObjectId('64cdc97e72f7070822be49cd'), 'name': 'Krishna', 'age': 33, 'city': 'Dwarka'}\n"
     ]
    }
   ],
   "source": [
    "import pymongo\n",
    "\n",
    "client = pymongo.MongoClient(\"mongodb://localhost:27017/\")  \n",
    "mydb = client[\"mydatabase1\"]\n",
    "mycollection = mydb[\"mycollection\"]\n",
    "\n",
    "one_record = {\n",
    "    \"name\": \"Shyam\",\n",
    "    \"age\": 25,\n",
    "    \"city\": \"Mumbai\"\n",
    "}\n",
    "inserted_one = mycollection.insert_one(one_record)\n",
    "print(\"Inserted One Record:\", inserted_one.inserted_id)\n",
    "\n",
    "many_records = [\n",
    "    {\"name\": \"Rohit\", \"age\": 28, \"city\": \"Mumbai\"},\n",
    "    {\"name\": \"Virat\", \"age\": 22, \"city\": \"Bangalore\"},\n",
    "    {\"name\": \"Krishna\", \"age\": 33, \"city\": \"Dwarka\"}\n",
    "]\n",
    "inserted_many = mycollection.insert_many(many_records)\n",
    "print(\"Inserted Many Records:\", inserted_many.inserted_ids)\n",
    "\n",
    "found_record = mycollection.find_one({\"name\": \"Rohit\"})\n",
    "print(\"Found Record:\", found_record)\n",
    "\n",
    "all_records = mycollection.find()\n",
    "print(\"All Records:\")\n",
    "for record in all_records:\n",
    "    print(record)\n",
    "\n",
    "client.close()\n"
   ]
  },
  {
   "cell_type": "code",
   "execution_count": null,
   "id": "bec83a72",
   "metadata": {},
   "outputs": [],
   "source": []
  },
  {
   "cell_type": "markdown",
   "id": "2f9409fb",
   "metadata": {},
   "source": [
    "# Q5. Explain how you can use the find() method to query the MongoDB database. Write a simple code to demonstrate this.\n",
    "\n",
    "The find() method in MongoDB is used to query the database and retrieve documents from a collection based on specified criteria. It returns a cursor object, which can be iterated to access the documents matching the query.\n",
    "\n",
    "1. Creating a Connection and Accessing Collection: First, establish a connection to the MongoDB server and access the collection you want to query.\n",
    "\n",
    "2. Defining Query Criteria: Use a dictionary to define the query criteria. The keys in the dictionary correspond to the fields you want to match, and their corresponding values specify the conditions for matching.\n",
    "\n",
    "3. Executing the Query and Handling Results: Call the find() method on the collection with the query criteria. The result is a cursor that you can iterate to access the matched documents."
   ]
  },
  {
   "cell_type": "code",
   "execution_count": 7,
   "id": "6354c516",
   "metadata": {},
   "outputs": [
    {
     "name": "stdout",
     "output_type": "stream",
     "text": [
      "Documents matching the query:\n",
      "{'_id': ObjectId('64cdc97e72f7070822be49cc'), 'name': 'Virat', 'age': 22, 'city': 'Bangalore'}\n"
     ]
    }
   ],
   "source": [
    "import pymongo\n",
    "\n",
    "client = pymongo.MongoClient(\"mongodb://localhost:27017/\") \n",
    "mydb = client[\"mydatabase1\"]\n",
    "mycollection = mydb[\"mycollection\"]\n",
    "\n",
    "query = {\"city\": \"Bangalore\"}\n",
    "\n",
    "cursor = mycollection.find(query)\n",
    "\n",
    "print(\"Documents matching the query:\")\n",
    "for document in cursor:\n",
    "    print(document)\n",
    "\n",
    "client.close()\n"
   ]
  },
  {
   "cell_type": "code",
   "execution_count": null,
   "id": "362d34ce",
   "metadata": {},
   "outputs": [],
   "source": []
  },
  {
   "cell_type": "markdown",
   "id": "dcbf71f4",
   "metadata": {},
   "source": [
    "# Q6. Explain the sort() method. Give an example to demonstrate sorting in MongoDB.\n",
    "\n",
    "The sort() method in MongoDB is used to specify the sorting order for the retrieved documents in a query result. It allows to arrange the documents in ascending or descending order based on one or more fields. It provide a dictionary that defines the sorting order for one or more fields. The keys of the dictionary represent the fields want to sort by. The values of the dictionary indicate the sorting direction: 1 for ascending and -1 for descending."
   ]
  },
  {
   "cell_type": "code",
   "execution_count": 8,
   "id": "ac0276b8",
   "metadata": {},
   "outputs": [
    {
     "name": "stdout",
     "output_type": "stream",
     "text": [
      "Documents matching the query, sorted by age (ascending):\n",
      "{'_id': ObjectId('64cdc97b72f7070822be49c8'), 'name': 'Ram', 'age': 30, 'city': 'New York'}\n"
     ]
    }
   ],
   "source": [
    "import pymongo\n",
    "client = pymongo.MongoClient(\"mongodb://localhost:27017/\") \n",
    "mydb = client[\"mydatabase1\"]\n",
    "mycollection = mydb[\"mycollection\"]\n",
    "\n",
    "query = {\"city\": \"New York\"}\n",
    "sort_order = [(\"age\", 1)] \n",
    "\n",
    "cursor = mycollection.find(query).sort(sort_order)\n",
    "\n",
    "print(\"Documents matching the query, sorted by age (ascending):\")\n",
    "for document in cursor:\n",
    "    print(document)\n",
    "\n",
    "client.close()\n"
   ]
  },
  {
   "cell_type": "markdown",
   "id": "1161dc1f",
   "metadata": {},
   "source": [
    "# Q7. Explain why delete_one(), delete_many(), and drop() is used.\n",
    "\n",
    "In MongoDB, delete_one(), delete_many(), and drop() are methods used to remove data from collections and databases. Each method serves a different purpose:\n",
    "\n",
    "1. delete_one(filter): This method is used to delete a single document that matches the specified filter criteria. It is useful when want to remove a specific document from a collection based on certain conditions. If multiple documents match the filter, only the first one encountered is deleted.\n",
    "\n",
    "Example:\n",
    "result = collection.delete_one({\"name\": \"Alice\"})\n",
    "\n",
    "2. delete_many(filter): This method is used to delete multiple documents that match the specified filter criteria. It is useful when want to delete several documents based on specific conditions. All documents matching the filter are deleted.\n",
    "\n",
    "Example: result = collection.delete_many({\"age\":{\"$gt\": \"30\"}})\n",
    "\n",
    "3. drop(): This method is used to delete an entire collection from the database. It is useful when want to completely remove a collection and all its documents. The collection itself is dropped, and the space it occupied is released.\n",
    "\n",
    "Example:\n",
    "collection.drop()"
   ]
  }
 ],
 "metadata": {
  "kernelspec": {
   "display_name": "Python 3 (ipykernel)",
   "language": "python",
   "name": "python3"
  },
  "language_info": {
   "codemirror_mode": {
    "name": "ipython",
    "version": 3
   },
   "file_extension": ".py",
   "mimetype": "text/x-python",
   "name": "python",
   "nbconvert_exporter": "python",
   "pygments_lexer": "ipython3",
   "version": "3.7.0"
  }
 },
 "nbformat": 4,
 "nbformat_minor": 5
}
