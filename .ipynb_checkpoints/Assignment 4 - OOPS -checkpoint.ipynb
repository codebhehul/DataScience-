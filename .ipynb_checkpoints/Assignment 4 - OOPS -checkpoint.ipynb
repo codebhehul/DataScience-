{
 "cells": [
  {
   "cell_type": "markdown",
   "id": "11dc306e",
   "metadata": {},
   "source": [
    "# Q1. Explain Class and Object with respect to Object-Oriented Programming. Give a suitable example."
   ]
  },
  {
   "cell_type": "code",
   "execution_count": 3,
   "id": "5266d787",
   "metadata": {},
   "outputs": [
    {
     "name": "stdout",
     "output_type": "stream",
     "text": [
      "Tata\n",
      "Celerio\n",
      "Engine started!\n"
     ]
    }
   ],
   "source": [
    "''' A class is a blueprint or template that defines the properties and behavior of objects, it serves as a blueprint for creating objects, which are instances of that class.\n",
    "An object is an instance of a class haveing their own unique data and can perform actions or methods defined in the class.'''\n",
    "\n",
    "class Car:\n",
    "    def __init__(self, make, model, year):\n",
    "        self.make = make\n",
    "        self.model = model\n",
    "        self.year = year\n",
    "    \n",
    "    def start_engine(self):\n",
    "        print(\"Engine started!\")\n",
    "    \n",
    "    def stop_engine(self):\n",
    "        print(\"Engine stopped!\")\n",
    "\n",
    "car1 = Car(\"Tata\", \"Nexon\", 2021)\n",
    "car2 = Car(\"Maruti\", \"Celerio\", 2023)\n",
    "print(car1.make)   \n",
    "print(car2.model)    \n",
    "\n",
    "car1.start_engine()  \n"
   ]
  },
  {
   "cell_type": "code",
   "execution_count": null,
   "id": "c211d1bb",
   "metadata": {},
   "outputs": [],
   "source": []
  },
  {
   "cell_type": "markdown",
   "id": "76736d00",
   "metadata": {},
   "source": [
    "# Q2. Name the four pillars of OOPs.\n",
    "The four pillars of object-oriented programming (OOP) are: \n",
    "1. Encapsulation\n",
    "2. Inheritance \n",
    "3. Polymorphism \n",
    "4. Abstraction \n",
    "provide reusable, and maintainable code by promoting code flexibility in object-oriented systems."
   ]
  },
  {
   "cell_type": "code",
   "execution_count": null,
   "id": "daf14de0",
   "metadata": {},
   "outputs": [],
   "source": []
  },
  {
   "cell_type": "markdown",
   "id": "181230ad",
   "metadata": {},
   "source": [
    "# Q3. Explain why the __init__() function is used. Give a suitable example."
   ]
  },
  {
   "cell_type": "code",
   "execution_count": 5,
   "id": "a2ae0bc6",
   "metadata": {},
   "outputs": [
    {
     "name": "stdout",
     "output_type": "stream",
     "text": [
      "Bhehul\n",
      "23\n",
      "My name is Bhehul and I am 23 years old.\n"
     ]
    }
   ],
   "source": [
    "'''The __init__() function is a special method in python classes that is automatically called when an object is created from a class. \n",
    "The main goal of __init__() method is to assign values to the object's attributes or properties.'''\n",
    "class Person:\n",
    "    def __init__(self, name, age):\n",
    "        self.name = name\n",
    "        self.age = age\n",
    "    def introduce(self):\n",
    "        print(f\"My name is {self.name} and I am {self.age} years old.\")\n",
    "person1 = Person(\"Bhehul\", 23)\n",
    "print(person1.name)  \n",
    "print(person1.age)   \n",
    "person1.introduce()  \n"
   ]
  },
  {
   "cell_type": "code",
   "execution_count": null,
   "id": "b0166f68",
   "metadata": {},
   "outputs": [],
   "source": []
  },
  {
   "cell_type": "markdown",
   "id": "5afe92b5",
   "metadata": {},
   "source": [
    "# Q4. Why self is used in OOPs?\n",
    "\n",
    "An object-oriented programming 'self' acts as a reference to the current object or instance on which a method is being called. The 'self' is used in oop for:- \n",
    "1. Differentiation between instance variables and local variables\n",
    "2. Accessing attributes and methods\n",
    "3. Communicating with other objects\n",
    "4. Maintaining object state\n",
    "'self' allowing for proper encapsulation and interaction between the object and its methods."
   ]
  },
  {
   "cell_type": "code",
   "execution_count": null,
   "id": "9e9967b4",
   "metadata": {},
   "outputs": [],
   "source": []
  },
  {
   "cell_type": "markdown",
   "id": "5abcd7da",
   "metadata": {},
   "source": [
    "# Q5. What is inheritance? Give an example for each type of inheritance."
   ]
  },
  {
   "cell_type": "code",
   "execution_count": 27,
   "id": "ab85e099",
   "metadata": {},
   "outputs": [
    {
     "name": "stdout",
     "output_type": "stream",
     "text": [
      "Single Inheritance\n",
      "The TaTa is being driven.\n",
      "The TaTa Nexon is honking.\n",
      "\n",
      "Multilevel Inheritance\n",
      "Fram Land\n",
      "House\n",
      "Car\n",
      "\n",
      "Multiple Inheritance\n",
      "Method A\n",
      "Method B\n",
      "Method C\n",
      "\n",
      "Hierarchical Inheritance\n",
      "Drawing shape...\n",
      "Drawing circle...\n",
      "Drawing shape...\n",
      "Drawing rectangle...\n"
     ]
    }
   ],
   "source": [
    "'''Inheritance is a fundamental concept in object-oriented programming (OOP) that allows a class to inherit properties and behaviors from another class. The class that inherits is called the derived class, subclass, or child class, while the class being inherited from is called the base class, superclass, or parent class. \n",
    "There are different types of inheritance in OOP:'''\n",
    "# 1. Single Inheritance:\n",
    "print(\"1. Single Inheritance\")\n",
    "class Vehicle:\n",
    "    def __init__(self, brand):\n",
    "        self.brand = brand\n",
    "\n",
    "    def drive(self):\n",
    "        print(f\"The {self.brand} is being driven.\")\n",
    "\n",
    "class Car(Vehicle):\n",
    "    def __init__(self, brand, model):\n",
    "        super().__init__(brand)\n",
    "        self.model = model\n",
    "\n",
    "    def honk(self):\n",
    "        print(f\"The {self.brand} {self.model} is honking.\")\n",
    "car = Car(\"TaTa\", \"Nexon\")\n",
    "car.drive()   \n",
    "car.honk()   \n",
    "\n",
    "print()\n",
    "# 2. Multilevel Inheritance:\n",
    "print(\"2. Multilevel Inheritance\")\n",
    "class GrandFather:\n",
    "    def method_a(self):\n",
    "        print(\"Fram Land\")\n",
    "\n",
    "class Father(GrandFather):\n",
    "    def method_b(self):\n",
    "        print(\"House\")\n",
    "\n",
    "class Son(Father):\n",
    "    def method_c(self):\n",
    "        print(\"Car\")\n",
    "son = Son()\n",
    "son.method_a()\n",
    "son.method_b()\n",
    "son.method_c()\n",
    "\n",
    "print()\n",
    "# 3. Multiple Inheritance:\n",
    "print(\"3. Multiple Inheritance\")\n",
    "class A:\n",
    "    def method_a(self):\n",
    "        print(\"Method A\")\n",
    "\n",
    "class B:\n",
    "    def method_b(self):\n",
    "        print(\"Method B\")\n",
    "\n",
    "class C(A, B):\n",
    "    def method_c(self):\n",
    "        print(\"Method C\")\n",
    "c = C()\n",
    "c.method_a()\n",
    "c.method_b()\n",
    "c.method_c()\n",
    "\n",
    "print()\n",
    "# 4. Hierarchical Inheritance:\n",
    "print(\"4. Hierarchical Inheritance\")\n",
    "class Shape:\n",
    "    def design(self):\n",
    "        print(\"Drawing shape...\")\n",
    "\n",
    "class Circle(Shape):\n",
    "    def draw(self):\n",
    "        print(\"Drawing circle...\")\n",
    "\n",
    "class Rectangle(Shape):\n",
    "    def draw(self):\n",
    "        print(\"Drawing rectangle...\")\n",
    "circle = Circle()\n",
    "circle.design()\n",
    "circle.draw()\n",
    "rectangle = Rectangle()\n",
    "rectangle.design()\n",
    "rectangle.draw()"
   ]
  },
  {
   "cell_type": "code",
   "execution_count": null,
   "id": "f906d273",
   "metadata": {},
   "outputs": [],
   "source": []
  }
 ],
 "metadata": {
  "kernelspec": {
   "display_name": "Python 3 (ipykernel)",
   "language": "python",
   "name": "python3"
  },
  "language_info": {
   "codemirror_mode": {
    "name": "ipython",
    "version": 3
   },
   "file_extension": ".py",
   "mimetype": "text/x-python",
   "name": "python",
   "nbconvert_exporter": "python",
   "pygments_lexer": "ipython3",
   "version": "3.7.0"
  }
 },
 "nbformat": 4,
 "nbformat_minor": 5
}
