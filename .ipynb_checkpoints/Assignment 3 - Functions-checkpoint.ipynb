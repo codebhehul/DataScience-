{
 "cells": [
  {
   "cell_type": "markdown",
   "id": "cd2dfa41",
   "metadata": {},
   "source": [
    "# Q1. Which keyword is used to create a function? Create a function to return a list of odd numbers in the range of 1 to 25."
   ]
  },
  {
   "cell_type": "code",
   "execution_count": 1,
   "id": "45ef27c0",
   "metadata": {},
   "outputs": [
    {
     "name": "stdout",
     "output_type": "stream",
     "text": [
      "[1, 3, 5, 7, 9, 11, 13, 15, 17, 19, 21, 23, 25]\n"
     ]
    }
   ],
   "source": [
    "# The keyword used to create a function in python programming languages is \"def\". An example of a Python function that returns a list of odd numbers in the range of 1 to 25:\n",
    "def odd_num():\n",
    "    odd_num = []\n",
    "    for num1 in range(1, 26):\n",
    "        if num1 % 2 != 0:\n",
    "            odd_num.append(num1)\n",
    "    return odd_num\n",
    "\n",
    "# Call the function and print the result\n",
    "print(odd_num())"
   ]
  },
  {
   "cell_type": "code",
   "execution_count": null,
   "id": "83b39769",
   "metadata": {},
   "outputs": [],
   "source": []
  },
  {
   "cell_type": "markdown",
   "id": "c3855c99",
   "metadata": {},
   "source": [
    "# Q2. Why *args and **kwargs is used in some functions? Create a function each for *args and **kwargs to demonstrate their use.\n",
    "\n"
   ]
  },
  {
   "cell_type": "code",
   "execution_count": 4,
   "id": "40245f84",
   "metadata": {},
   "outputs": [
    {
     "name": "stdout",
     "output_type": "stream",
     "text": [
      "Hello\n",
      "World\n",
      "1\n",
      "2\n",
      "3\n",
      "4\n",
      "5\n",
      "name: Rohit\n",
      "age: 25\n",
      "city: Mumbai\n",
      "country: India\n"
     ]
    }
   ],
   "source": [
    "#The *args and **kwargs are used in python functions to allow for variable-length arguments, it is flexible way to pass a varying number of arguments to a function. \n",
    "# for eg:\n",
    "\n",
    "def arg(*args):\n",
    "    for arg in args:\n",
    "        print(arg)\n",
    "\n",
    "arg('Hello', 'World')\n",
    "arg(1, 2, 3, 4, 5)\n",
    "\n",
    "def argu(**kwargs):\n",
    "    for key, value in kwargs.items():\n",
    "        print(f'{key}: {value}')\n",
    "\n",
    "argu(name='Rohit', age=25)\n",
    "argu(city='Mumbai', country='India')"
   ]
  },
  {
   "cell_type": "code",
   "execution_count": null,
   "id": "564d7714",
   "metadata": {},
   "outputs": [],
   "source": []
  },
  {
   "cell_type": "markdown",
   "id": "a9ae4fb0",
   "metadata": {},
   "source": [
    "# Q3. What is an iterator in python? Name the method used to initialise the iterator object and the method used for iteration. Use these methods to print the first five elements of the given list [2, 4, 6, 8, 10, 12, 14, 16,18, 20]."
   ]
  },
  {
   "cell_type": "code",
   "execution_count": 5,
   "id": "f04b77c5",
   "metadata": {},
   "outputs": [
    {
     "name": "stdout",
     "output_type": "stream",
     "text": [
      "2\n",
      "4\n",
      "6\n",
      "8\n",
      "10\n"
     ]
    }
   ],
   "source": [
    "''' An iterator is an object that implements the iterator protocol, the two methods used to initialise the iterator object and the method used for iteration are: __iter__() and __next__().\n",
    " __iter__(): This method is used to initialize the iterator object. It returns the iterator object itself. It is called when you want to iterate over the elements of an object. \n",
    " __next__(): This method is used for iteration. It returns the next item from the iterator.''' \n",
    "class num:\n",
    "    def __init__(self):\n",
    "        self.current = 2\n",
    "\n",
    "    def __iter__(self):\n",
    "        return self\n",
    "\n",
    "    def __next__(self):\n",
    "        if self.current <= 20:\n",
    "            number = self.current\n",
    "            self.current += 2\n",
    "            return number\n",
    "        else:\n",
    "            raise StopIteration\n",
    "\n",
    "iterator = num()\n",
    "\n",
    "for _ in range(5):\n",
    "    print(next(iterator))"
   ]
  },
  {
   "cell_type": "code",
   "execution_count": null,
   "id": "0522893e",
   "metadata": {},
   "outputs": [],
   "source": []
  },
  {
   "cell_type": "markdown",
   "id": "08928d00",
   "metadata": {},
   "source": [
    "# Q4. What is a generator function in python? Why yield keyword is used? Give an example of a generator function."
   ]
  },
  {
   "cell_type": "code",
   "execution_count": 6,
   "id": "f52d4d12",
   "metadata": {},
   "outputs": [
    {
     "ename": "NameError",
     "evalue": "name 'generate_even_numbers' is not defined",
     "output_type": "error",
     "traceback": [
      "\u001b[1;31m---------------------------------------------------------------------------\u001b[0m",
      "\u001b[1;31mNameError\u001b[0m                                 Traceback (most recent call last)",
      "\u001b[1;32m~\\AppData\\Local\\Temp\\ipykernel_18444\\3100561746.py\u001b[0m in \u001b[0;36m<module>\u001b[1;34m\u001b[0m\n\u001b[0;32m      7\u001b[0m         \u001b[0mnumber\u001b[0m \u001b[1;33m+=\u001b[0m \u001b[1;36m2\u001b[0m\u001b[1;33m\u001b[0m\u001b[0m\n\u001b[0;32m      8\u001b[0m \u001b[1;33m\u001b[0m\u001b[0m\n\u001b[1;32m----> 9\u001b[1;33m \u001b[0mgenerator\u001b[0m \u001b[1;33m=\u001b[0m \u001b[0mgenerate_even_numbers\u001b[0m\u001b[1;33m(\u001b[0m\u001b[1;33m)\u001b[0m\u001b[1;33m\u001b[0m\u001b[0m\n\u001b[0m\u001b[0;32m     10\u001b[0m \u001b[1;33m\u001b[0m\u001b[0m\n\u001b[0;32m     11\u001b[0m \u001b[1;32mfor\u001b[0m \u001b[0m_\u001b[0m \u001b[1;32min\u001b[0m \u001b[0mrange\u001b[0m\u001b[1;33m(\u001b[0m\u001b[1;36m5\u001b[0m\u001b[1;33m)\u001b[0m\u001b[1;33m:\u001b[0m\u001b[1;33m\u001b[0m\u001b[0m\n",
      "\u001b[1;31mNameError\u001b[0m: name 'generate_even_numbers' is not defined"
     ]
    }
   ],
   "source": [
    "''' A generator function in python is a special type of function that generates a sequence of values using the yield keyword, generator functions can pause their execution and later resume from where they left off, allowing them to produce a series of values over time.\n",
    "The yield keyword is used in a generator function to define a value that will be yielded (returned) to the caller each time the generator function is called. '''\n",
    "def num():\n",
    "    number = 2\n",
    "    while True:\n",
    "        yield number\n",
    "        number += 2\n",
    "        \n",
    "generator = num()\n",
    "\n",
    "for _ in range(5):\n",
    "    print(next(generator))"
   ]
  },
  {
   "cell_type": "code",
   "execution_count": null,
   "id": "208ed6ee",
   "metadata": {},
   "outputs": [],
   "source": []
  },
  {
   "cell_type": "markdown",
   "id": "dd55b8ed",
   "metadata": {},
   "source": [
    "# Q5. Create a generator function for prime numbers less than 1000. Use the next() method to print the first 20 prime numbers."
   ]
  },
  {
   "cell_type": "code",
   "execution_count": null,
   "id": "9e08e4f6",
   "metadata": {},
   "outputs": [],
   "source": [
    "def primenum():\n",
    "    primes = []\n",
    "    num = 2\n",
    "    while True:\n",
    "        if all(num % prime != 0 for prime in primes):\n",
    "            primes.append(num)\n",
    "            yield num\n",
    "        num += 1\n",
    "\n",
    "# Create a generator object\n",
    "generator = primenum()\n",
    "\n",
    "# Print the first 20 prime numbers\n",
    "for _ in range(20):\n",
    "    print(next(generator))\n"
   ]
  },
  {
   "cell_type": "code",
   "execution_count": null,
   "id": "f2b7aaa3",
   "metadata": {},
   "outputs": [],
   "source": []
  }
 ],
 "metadata": {
  "kernelspec": {
   "display_name": "Python 3 (ipykernel)",
   "language": "python",
   "name": "python3"
  },
  "language_info": {
   "codemirror_mode": {
    "name": "ipython",
    "version": 3
   },
   "file_extension": ".py",
   "mimetype": "text/x-python",
   "name": "python",
   "nbconvert_exporter": "python",
   "pygments_lexer": "ipython3",
   "version": "3.7.0"
  }
 },
 "nbformat": 4,
 "nbformat_minor": 5
}
